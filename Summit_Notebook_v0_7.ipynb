{
  "nbformat": 4,
  "nbformat_minor": 0,
  "metadata": {
    "interpreter": {
      "hash": "7dd336b956e436c3e4239a1607ccc59572089974d552a2947c38e44483f0f2ff"
    },
    "kernelspec": {
      "name": "python3",
      "display_name": "Python 3.7.6 64-bit ('base': conda)"
    },
    "language_info": {
      "name": "python",
      "version": "3.7.6",
      "mimetype": "text/x-python",
      "codemirror_mode": {
        "name": "ipython",
        "version": 3
      },
      "pygments_lexer": "ipython3",
      "nbconvert_exporter": "python",
      "file_extension": ".py"
    },
    "colab": {
      "name": "Summit_Notebook_v0.6.ipynb",
      "provenance": [],
      "collapsed_sections": []
    }
  },
  "cells": [
    {
      "cell_type": "markdown",
      "metadata": {
        "id": "4dbliZIia6dT"
      },
      "source": [
        "# Clustering with the 20-Newsgroups Dataset\n",
        "Authors: R. Edwards, J.Giles, N. Velzboer, E. Whitney and you! <br>\n",
        "Purpose: Exploring different clustering approaches with the 20 newsgroup dataset, comprising of user questions and posts on different web forums (open source: http://qwone.com/~jason/20Newsgroups/)"
      ]
    },
    {
      "cell_type": "code",
      "metadata": {
        "trusted": true,
        "id": "dQTKfZZca6dV"
      },
      "source": [
        "# Import Relavent Libraries\n",
        "\n",
        "## Python libraries \n",
        "import string\n",
        "import time\n",
        "\n",
        "## Data Manipulation\n",
        "import pandas as pd\n",
        "import numpy as np\n",
        "\n",
        "## Plotting Data\n",
        "import matplotlib.pyplot as plt\n",
        "\n",
        "## Feature selection\n",
        "from sklearn.datasets import fetch_20newsgroups\n",
        "from sklearn.feature_extraction.text import CountVectorizer, TfidfVectorizer\n",
        "\n",
        "## Dimensionality Reduction \n",
        "from sklearn.decomposition import LatentDirichletAllocation, PCA\n",
        "from sklearn.decomposition import TruncatedSVD\n",
        "from sklearn.pipeline import make_pipeline\n",
        "from sklearn.preprocessing import Normalizer\n",
        "from sklearn import metrics\n",
        "from collections import Counter\n",
        "\n",
        "## Clustering \n",
        "from sklearn.cluster import KMeans, DBSCAN\n",
        "from sklearn.mixture import GaussianMixture\n",
        "\n",
        "## Get rid of pesky warnings\n",
        "import warnings\n",
        "warnings.filterwarnings('ignore')"
      ],
      "execution_count": 1,
      "outputs": []
    },
    {
      "cell_type": "markdown",
      "metadata": {
        "id": "qCx4HlrPa6dW"
      },
      "source": [
        "## Set-up\n",
        "Reading in data, creating pandas dataframe"
      ]
    },
    {
      "cell_type": "code",
      "metadata": {
        "trusted": true,
        "id": "9ndqpukYa6dW"
      },
      "source": [
        "# Sklearn maintains offers this data as part of their inbuilt learning sets.\n",
        "#  We'll download the 'training' set,  however ignore the name 'train'. They \n",
        "# offer the data split into training and testing sets if you are trying to apply some classification approach \n",
        "# May take up to a minute to download\n",
        "filter_topics = ['comp.graphics','comp.os.ms-windows.misc',\n",
        "'comp.sys.ibm.pc.hardware','comp.sys.mac.hardware','comp.windows.x',\n",
        " 'misc.forsale','rec.autos','rec.motorcycles',\n",
        " 'rec.sport.baseball','rec.sport.hockey','sci.crypt',\n",
        " 'sci.electronics','sci.med','sci.space']\n",
        "newsgroups_train = fetch_20newsgroups(subset='train',categories=filter_topics)"
      ],
      "execution_count": 161,
      "outputs": []
    },
    {
      "cell_type": "code",
      "metadata": {
        "trusted": true,
        "id": "XPcQ6m8ia6dW"
      },
      "source": [
        "# Pull data into pandas dataframe. Non essential, but pandas dataframes are nice to work with\n",
        "df_text_ng=pd.DataFrame(data={'text':newsgroups_train.data}, columns=['text'])\n",
        "\n",
        "# Take subset of dataset to prevent memory/kernel/processing issues\n",
        "row_lim = 2000\n",
        "df_text_ng = df_text_ng.iloc[0:row_lim,:]"
      ],
      "execution_count": 162,
      "outputs": []
    },
    {
      "cell_type": "markdown",
      "metadata": {
        "id": "tYrQZLBYa6dX"
      },
      "source": [
        "## Cleaning and pre-processing\n",
        "We will apply the following pre-processing steps <br>\n",
        "<ol>\n",
        "<li> Remove unwanted characters\n",
        "<li> Tokenisation and case sensitive \n",
        "<li> Stopwords\n",
        "<li> Lemmitisation \n",
        "<ul>"
      ]
    },
    {
      "cell_type": "code",
      "metadata": {
        "trusted": true,
        "id": "W2nxGTpZa6dX"
      },
      "source": [
        "# Standard NLTK stopwords list\n",
        "stopwords = ['i', 'me', 'my', 'myself', 'we', 'our', 'ours', 'ourselves', 'you',\n",
        "            \"you're\", \"you've\", \"you'll\", \"you'd\", 'your', 'yours', 'yourself', \n",
        "            'yourselves', 'he', 'him', 'his', 'himself', 'she', \"she's\", 'her', \n",
        "            'hers', 'herself', 'it', \"it's\", 'its', 'itself', 'they', 'them', \n",
        "            'their', 'theirs', 'themselves', 'what', 'which', 'who', 'whom', \n",
        "            'this', 'that', \"that'll\", 'these', 'those', 'am', 'is', 'are', \n",
        "            'was', 'were', 'be', 'been', 'being', 'have', 'has', 'had', \n",
        "            'having', 'do', 'does', 'did', 'doing', 'a', 'an', 'the', 'and', \n",
        "            'but', 'if', 'or', 'because', 'as', 'until', 'while', 'of', 'at', \n",
        "            'by', 'for', 'with', 'about', 'against', 'between', 'into', 'through', \n",
        "            'during', 'before', 'after', 'above', 'below', 'to', 'from', 'up', \n",
        "            'down', 'in', 'out', 'on', 'off', 'over', 'under', 'again', 'further', \n",
        "            'then', 'once', 'here', 'there', 'when', 'where', 'why', 'how', 'all', \n",
        "            'any', 'both', 'each', 'few', 'more', 'most', 'other', 'some', 'such', \n",
        "            'no', 'nor', 'not', 'only', 'own', 'same', 'so', 'than', 'too', 'very', \n",
        "            's', 't', 'can', 'will', 'just', 'don', \"don't\", 'should', \"should've\", \n",
        "            'now', 'd', 'll', 'm', 'o', 're', 've', 'y', 'ain', 'aren', \"aren't\", \n",
        "            'couldn', \"couldn't\", 'didn', \"didn't\", 'doesn', \"doesn't\", 'hadn', \n",
        "            \"hadn't\", 'hasn', \"hasn't\", 'haven', \"haven't\", 'isn', \"isn't\", \n",
        "            'ma', 'mightn', \"mightn't\", 'mustn', \"mustn't\", 'needn', \"needn't\", \n",
        "            'shan', \"shan't\", 'shouldn', \"shouldn't\", 'wasn', \"wasn't\", 'weren',\n",
        "            \"weren't\", 'won', \"won't\", 'wouldn', \"wouldn't\", 'would']\n",
        "# Add extras you want to remove here\n",
        "custom_stops = ['subject', 'from', 'to', 'article', 'summary','nntp', 'posting',\n",
        "                'host', 'lines', 'organisation', 'organization', 'scsi', 'writes',\n",
        "                'university']\n",
        "# Join two lists\n",
        "our_stopwords = stopwords + custom_stops\n"
      ],
      "execution_count": 163,
      "outputs": []
    },
    {
      "cell_type": "code",
      "metadata": {
        "trusted": true,
        "id": "vspba67ta6dY"
      },
      "source": [
        "pd.set_option('display.max_colwidth', 1000)\n",
        "# Lower case\n",
        "df_text_ng['text_lower'] = df_text_ng['text'].str.lower()\n",
        "# Remove \\n (newlines), and strings with emails or .com IP style addresses\n",
        "df_text_ng['text_noemails'] = df_text_ng['text_lower'].replace(r\"\\n\",\" \",\n",
        "                              regex=True).replace(r\"\\S*[@.]\\S*\\s?\",\"\", regex=True)\n",
        "# Remove anything except letters and spaces\n",
        "df_text_ng['text_punct'] = df_text_ng['text_noemails'].replace(r\"[^a-z ]\",\" \",\n",
        "                              regex=True)\n",
        "# Split string into lists of words on the whitespace\n",
        "df_text_ng['text_tokens'] = df_text_ng['text_punct'].str.split()\n",
        "# Remove words not in our prederived list\n",
        "df_text_ng['text_stop'] = df_text_ng['text_tokens'].apply(lambda x: [word \n",
        "                             for word in x if word not in our_stopwords])\n",
        "# Rejoin into a string \n",
        "df_text_ng['text_clean'] = df_text_ng['text_stop'].apply(lambda x: ' '.join([word for word in x]))"
      ],
      "execution_count": 164,
      "outputs": []
    },
    {
      "cell_type": "code",
      "metadata": {
        "trusted": true,
        "colab": {
          "base_uri": "https://localhost:8080/"
        },
        "id": "SJxbMLeoa6dY",
        "outputId": "02d0a407-9e6b-4b8c-a411-3f2c72e26b0b"
      },
      "source": [
        "print(\"Original record 1: \\n\\n\")\n",
        "print(df_text_ng['text'][0:1])\n",
        "print(\"\\n\")\n",
        "print(\"Cleaned record 1: \\n\\n\")\n",
        "print(df_text_ng['text_clean'][0:1])"
      ],
      "execution_count": 165,
      "outputs": [
        {
          "output_type": "stream",
          "name": "stdout",
          "text": [
            "Original record 1: \n",
            "\n",
            "\n",
            "0    From: ai598@cleveland.Freenet.Edu (Mike Sturdevant)\\nSubject: Carrying crutches (was Re: Living\\nArticle-I.D.: usenet.1pqhkl$g48\\nReply-To: ai598@cleveland.Freenet.Edu (Mike Sturdevant)\\nOrganization: Case Western Reserve University, Cleveland, OH (USA)\\nLines: 18\\nNNTP-Posting-Host: slc10.ins.cwru.edu\\n\\n\\nIn a previous article, pooder@rchland.vnet.ibm.com (Don Fearn) says:\\n\\n>\\n>When I broke my right leg in two places (not a motorcycle accident -- a \\n>_car_ accident; who woulda thunk it?) I put my crutches on Gretchen's rear\\n>rack.  I'm getting the metal rod pulled out on Friday and going back on \\n>the crutches for six weeks.  I think crutches on the handlebars sound more \\n>aesthetically pleasing.  How did you attach them?\\n\\n\\n\\tWhen I got my knee rebuilt I got back on the street bike ASAP. I put\\nthe crutches on the rack and the passenger seat and they hung out back a\\nLONG way. Just make sure they're tied down tight in front and no problemo.\\n-- \\nGo fast. Take chances.\\n...\n",
            "Name: text, dtype: object\n",
            "\n",
            "\n",
            "Cleaned record 1: \n",
            "\n",
            "\n",
            "0    mike sturdevant carrying crutches living reply mike sturdevant case western reserve cleveland oh usa previous fearn says broke right leg two places motorcycle accident car accident woulda thunk put crutches gretchen rear getting metal rod pulled friday going back crutches six think crutches handlebars sound aesthetically attach got knee rebuilt got back street bike put crutches rack passenger seat hung back long make sure tied tight front go take mike\n",
            "Name: text_clean, dtype: object\n"
          ]
        }
      ]
    },
    {
      "cell_type": "markdown",
      "metadata": {
        "id": "nsMWcWbha6dZ"
      },
      "source": [
        "## Feature engineering\n",
        "Below we'll create the three possible sets that may be used (There are other <br>methods\n",
        "but these are the voting options) <br>\n",
        "<ol>\n",
        "<li> Set 1: Bag of words with Unigrams\n",
        "<li> Set 2: Bag of words with Unigrams and bigrams\n",
        "<li> Set 3: TF-IDF with unigrams\n",
        "</ol> <br>\n",
        "Uncomment the set you would like to create"
      ]
    },
    {
      "cell_type": "code",
      "metadata": {
        "trusted": true,
        "colab": {
          "base_uri": "https://localhost:8080/"
        },
        "id": "z62HB97Va6dZ",
        "outputId": "500c5d7b-df6c-4456-ab66-67f0766770bc"
      },
      "source": [
        "#Uncomment this cell for Set 1\n",
        "bogS1 = CountVectorizer()\n",
        "X = bogS1.fit_transform(df_text_ng['text_clean'])\n",
        "print(X.toarray())\n",
        "print(\"First 20 features:....\\n\")\n",
        "print(bogS1.get_feature_names()[0:20])\n"
      ],
      "execution_count": 58,
      "outputs": [
        {
          "output_type": "stream",
          "name": "stdout",
          "text": [
            "[[0 0 0 ... 0 0 0]\n",
            " [0 0 0 ... 0 0 0]\n",
            " [0 0 0 ... 0 0 0]\n",
            " ...\n",
            " [0 0 0 ... 0 0 0]\n",
            " [0 0 0 ... 0 0 0]\n",
            " [0 0 0 ... 0 0 0]]\n",
            "First 20 features:....\n",
            "\n",
            "['aa', 'aaa', 'aaahhhh', 'aalternate', 'aam', 'aamir', 'aams', 'aan', 'aangegeven', 'aantal', 'aarhus', 'aaron', 'aas', 'aazo', 'ab', 'abad', 'abandon', 'abandond', 'abandoned', 'abberley']\n"
          ]
        }
      ]
    },
    {
      "cell_type": "code",
      "metadata": {
        "trusted": true,
        "colab": {
          "base_uri": "https://localhost:8080/"
        },
        "id": "hqcJmW6Ma6dZ",
        "outputId": "c405d8c3-f7f0-44a8-ec41-326f5f316b6c"
      },
      "source": [
        "#Uncomment this cell for Set 2\n",
        "bogS2 = CountVectorizer(ngram_range=(1,2))\n",
        "X = bogS2.fit_transform(df_text_ng['text_clean'])\n",
        "print(\"First 20 features:....\\n\")\n",
        "print(bogS2.get_feature_names()[0:20])"
      ],
      "execution_count": 8,
      "outputs": [
        {
          "output_type": "stream",
          "name": "stdout",
          "text": [
            "First 20 features:....\n",
            "\n",
            "['aa', 'aa also', 'aa nd', 'aa play', 'aa season', 'aaa', 'aaa already', 'aaa batteries', 'aaa besides', 'aaa cal', 'aaa certainly', 'aaa club', 'aaa free', 'aaa level', 'aaa like', 'aaa longer', 'aaa players', 'aaa probably', 'aaa see', 'aaa talking']\n"
          ]
        }
      ]
    },
    {
      "cell_type": "code",
      "metadata": {
        "trusted": true,
        "colab": {
          "base_uri": "https://localhost:8080/"
        },
        "id": "vnWKbbQLa6da",
        "outputId": "c5df67f9-cb10-48e6-8b82-302e658bbf07"
      },
      "source": [
        "#Uncomment this cell for Set 3\n",
        "tfidfvect = TfidfVectorizer()\n",
        "X = tfidfvect.fit_transform(df_text_ng['text_clean'])\n",
        "print(\"First 20 features:....\\n\")\n",
        "print(tfidfvect.get_feature_names()[0:20])"
      ],
      "execution_count": 166,
      "outputs": [
        {
          "output_type": "stream",
          "name": "stdout",
          "text": [
            "First 20 features:....\n",
            "\n",
            "['aa', 'aaa', 'aaahhhh', 'aalternate', 'aam', 'aamir', 'aams', 'aan', 'aangegeven', 'aantal', 'aarhus', 'aaron', 'aas', 'aazo', 'ab', 'abad', 'abandon', 'abandond', 'abandoned', 'abberley']\n"
          ]
        }
      ]
    },
    {
      "cell_type": "markdown",
      "metadata": {
        "id": "Uv4vpL3Pa6da"
      },
      "source": [
        "## Dimensionality reduction "
      ]
    },
    {
      "cell_type": "markdown",
      "metadata": {
        "id": "6cBpcqXfa6da"
      },
      "source": [
        "### LDA"
      ]
    },
    {
      "cell_type": "code",
      "metadata": {
        "trusted": true,
        "id": "hAZRwFV_a6da"
      },
      "source": [
        "n_components = 100"
      ],
      "execution_count": 59,
      "outputs": []
    },
    {
      "cell_type": "code",
      "metadata": {
        "trusted": true,
        "colab": {
          "base_uri": "https://localhost:8080/"
        },
        "id": "HGMov82ra6db",
        "outputId": "57b8b881-495f-44d0-e271-11e1f50b421b"
      },
      "source": [
        "# LDA\n",
        "print(\"Performing dimensionality reduction using LDA...\")\n",
        "\n",
        "start = time.time()\n",
        "\n",
        "lda = LatentDirichletAllocation(n_components=n_components, random_state=0, evaluate_every=1)\n",
        "lda_model = lda.fit(X)\n",
        "X_DR = lda.fit_transform(X)\n",
        "\n",
        "end = time.time()\n",
        "duration = np.round(end - start)\n",
        "print(\"LDA duration: %i\" %(duration))\n",
        "# plt.plot(X_DR.max(axis=1),'o')"
      ],
      "execution_count": 172,
      "outputs": [
        {
          "output_type": "stream",
          "name": "stdout",
          "text": [
            "Performing dimensionality reduction using LDA...\n",
            "LDA duration: 69\n"
          ]
        }
      ]
    },
    {
      "cell_type": "markdown",
      "metadata": {
        "id": "scpR2xhIa6db"
      },
      "source": [
        "### LSA"
      ]
    },
    {
      "cell_type": "code",
      "metadata": {
        "trusted": true,
        "colab": {
          "base_uri": "https://localhost:8080/",
          "height": 331
        },
        "id": "LxwiZeaPa6db",
        "outputId": "da44cbde-67be-4165-caa4-5d7c9ee0747b"
      },
      "source": [
        "# LSA\n",
        "## Prepare data for clustering\n",
        "\n",
        "print(\"Performing dimensionality reduction using LSA...\")\n",
        "\n",
        "start = time.time()\n",
        "\n",
        "# # Vectorizer results are normalized, which makes KMeans behave as\n",
        "# # spherical k-means for better results. Since LSA/SVD results are\n",
        "# # not normalized, we have to redo the normalization.\n",
        "svd = TruncatedSVD(n_components=n_components)\n",
        "normalizer = Normalizer(copy=False)\n",
        "lsa = make_pipeline(svd, normalizer)\n",
        "\n",
        "X_array = X.toarray()\n",
        "X_DR = lsa.fit_transform(X)\n",
        "\n",
        "end = time.time()\n",
        "duration = np.round(end - start)\n",
        "print(\"LDA duration: %i\" %(duration))\n",
        "\n",
        "explained_variance = svd.explained_variance_ratio_.sum()\n",
        "print(\"Explained variance of the SVD step: {}%\".format(\n",
        "     int(explained_variance * 100)))\n",
        "\n",
        "# Plot the explained variances\n",
        "features = range(svd.n_components)\n",
        "\n",
        "plt.bar(features, svd.explained_variance_ratio_, color='black')\n",
        "plt.xlabel('LSA features')\n",
        "plt.ylabel('variance %');\n"
      ],
      "execution_count": 167,
      "outputs": [
        {
          "output_type": "stream",
          "name": "stdout",
          "text": [
            "Performing dimensionality reduction using LSA...\n",
            "LDA duration: 2\n",
            "Explained variance of the SVD step: 16%\n"
          ]
        },
        {
          "output_type": "display_data",
          "data": {
            "image/png": "[encoded data removed]",
            "text/plain": [
              "<Figure size 432x288 with 1 Axes>"
            ]
          },
          "metadata": {
            "needs_background": "light"
          }
        }
      ]
    },
    {
      "cell_type": "markdown",
      "metadata": {
        "id": "cl5XDsZKa6dc"
      },
      "source": [
        "### PCA"
      ]
    },
    {
      "cell_type": "code",
      "metadata": {
        "trusted": true,
        "colab": {
          "base_uri": "https://localhost:8080/",
          "height": 349
        },
        "id": "wSOQPyd2a6dc",
        "outputId": "bffd4d37-561e-40f6-c309-dff66dd8a4ca"
      },
      "source": [
        "# PCA\n",
        "\n",
        "## Prepare data for clustering\n",
        "\n",
        "print(\"Performing dimensionality reduction using PCA...\")\n",
        "\n",
        "start = time.time()\n",
        "\n",
        "pca = PCA(n_components=n_components)\n",
        "X_DR = pca.fit_transform(X.toarray())\n",
        "principalDf = pd.DataFrame(data = X_DR)\n",
        "\n",
        "print(\"Explained variance of the PCA: {}%\".format(\n",
        "     int(pca.explained_variance_ratio_.sum() * 100)))\n",
        "\n",
        "end = time.time()\n",
        "duration = np.round(end - start)\n",
        "print(\"LDA duration: %i\" %(duration))\n",
        "\n",
        "# Plot the explained variances\n",
        "features = range(pca.n_components_)\n",
        "plt.bar(features, pca.explained_variance_ratio_, color='black')\n",
        "plt.xlabel('PCA features')\n",
        "plt.ylabel('variance %');\n",
        "print('The shape of X_DR is: ', X_DR.shape)\n",
        "#plt.xticks(features)\n"
      ],
      "execution_count": 13,
      "outputs": [
        {
          "output_type": "stream",
          "name": "stdout",
          "text": [
            "Performing dimensionality reduction using PCA...\n",
            "Explained variance of the PCA: 10%\n",
            "LDA duration: 8\n",
            "The shape of X_DR is:  (2000, 50)\n"
          ]
        },
        {
          "output_type": "display_data",
          "data": {
            "image/png": "[encoded data removed]",
            "text/plain": [
              "<Figure size 432x288 with 1 Axes>"
            ]
          },
          "metadata": {
            "needs_background": "light"
          }
        }
      ]
    },
    {
      "cell_type": "markdown",
      "metadata": {
        "id": "UQRA210Qa6dc"
      },
      "source": [
        "## Clustering"
      ]
    },
    {
      "cell_type": "markdown",
      "metadata": {
        "id": "LHyh6tjSa6dc"
      },
      "source": [
        "### Kmeans"
      ]
    },
    {
      "cell_type": "code",
      "metadata": {
        "trusted": true,
        "id": "dRq0n2uCa6dd"
      },
      "source": [
        "# Initialise Modelling Parameters\n",
        "\n",
        "## Number of CLusters\n",
        "K = 14\n",
        "\n",
        "## Method for Initialisation\n",
        "init='k-means++' ## k-means++ selects initial cluster centers for k-mean clustering in a smart way to speed up convergence.\n",
        "\n",
        "## The number of initializations to perform. The best results are kept.\n",
        "n_init=10"
      ],
      "execution_count": 75,
      "outputs": []
    },
    {
      "cell_type": "code",
      "metadata": {
        "trusted": true,
        "id": "DTag-3d9a6dd"
      },
      "source": [
        "## Create model instance\n",
        "model_instance = KMeans(n_clusters = K,\n",
        "                        init=init,\n",
        "                        n_init=n_init\n",
        "                       )\n",
        "\n",
        "## Fit data to model\n",
        "model = model_instance.fit(X_DR)\n",
        "\n",
        "## Get labels for evaluation\n",
        "labels = model.labels_"
      ],
      "execution_count": 76,
      "outputs": []
    },
    {
      "cell_type": "markdown",
      "metadata": {
        "id": "zkEEPdwla6dd"
      },
      "source": [
        "### Gaussian Mixture Models"
      ]
    },
    {
      "cell_type": "code",
      "metadata": {
        "trusted": true,
        "id": "qqlBjt_Ta6dd"
      },
      "source": [
        "# Initialise Modelling Parameters\n",
        "\n",
        "## Number of CLusters\n",
        "K = 14\n",
        "\n",
        "## String describing the type of covariance parameters to use.\n",
        "covariance_type='full' ## Full means each component has its own general covariance matrix\n",
        "\n",
        "## The number of initializations to perform. The best results are kept.\n",
        "n_init=10"
      ],
      "execution_count": 74,
      "outputs": []
    },
    {
      "cell_type": "code",
      "metadata": {
        "trusted": true,
        "id": "0gsBlJEka6dd"
      },
      "source": [
        "## Create model instance\n",
        "model_instance = GaussianMixture(n_components=K\n",
        "                                , n_init=n_init\n",
        "                                , covariance_type=covariance_type\n",
        "                                )\n",
        "\n",
        "## Fit data to model\n",
        "model = model_instance.fit(X_DR)\n",
        "\n",
        "## Get labels for evaluation\n",
        "labels = model.predict(X_DR)"
      ],
      "execution_count": 26,
      "outputs": []
    },
    {
      "cell_type": "markdown",
      "metadata": {
        "id": "URjsXD0Ta6de"
      },
      "source": [
        "### DBSCAN"
      ]
    },
    {
      "cell_type": "code",
      "metadata": {
        "colab": {
          "base_uri": "https://localhost:8080/",
          "height": 283
        },
        "id": "jQflFEhHmNCE",
        "outputId": "882f2588-de18-4af6-b884-a6af702474ca"
      },
      "source": [
        "from sklearn.neighbors import NearestNeighbors\n",
        "neigh = NearestNeighbors(n_neighbors=2)\n",
        "nbrs = neigh.fit(X_DR)\n",
        "distances, indices = nbrs.kneighbors(X_DR)\n",
        "\n",
        "distances = distances[:,1]\n",
        "plt.plot(distances)\n"
      ],
      "execution_count": 176,
      "outputs": [
        {
          "output_type": "execute_result",
          "data": {
            "text/plain": [
              "[<matplotlib.lines.Line2D at 0x7fa20d45a750>]"
            ]
          },
          "metadata": {},
          "execution_count": 176
        },
        {
          "output_type": "display_data",
          "data": {
            "image/png": "[encoded data removed]",
            "text/plain": [
              "<Figure size 432x288 with 1 Axes>"
            ]
          },
          "metadata": {
            "needs_background": "light"
          }
        }
      ]
    },
    {
      "cell_type": "code",
      "metadata": {
        "trusted": true,
        "id": "vVsfFoL7a6de"
      },
      "source": [
        "# Initialise Modelling Parameters\n",
        "\n",
        "## The maximum distance between two samples for one to be considered as in the neighborhood of the other.\n",
        "eps = 0.1\n",
        "\n",
        "## The number of samples in a neighborhood for a point to be considered as a core point. This includes the point itself.\n",
        "min_samples = 2"
      ],
      "execution_count": 183,
      "outputs": []
    },
    {
      "cell_type": "code",
      "metadata": {
        "trusted": true,
        "id": "KlRZOoiga6de"
      },
      "source": [
        "## Create model instance\n",
        "model_instance = DBSCAN(eps=eps\n",
        "                        , min_samples=min_samples\n",
        "                        )\n",
        "\n",
        "## Fit data to model\n",
        "model = model_instance.fit(X_DR)\n",
        "\n",
        "## Get labels for evaluation\n",
        "labels = model.labels_"
      ],
      "execution_count": 184,
      "outputs": []
    },
    {
      "cell_type": "markdown",
      "metadata": {
        "id": "ZwW_2YCha6de"
      },
      "source": [
        "## Evaluation"
      ]
    },
    {
      "cell_type": "code",
      "metadata": {
        "trusted": true,
        "colab": {
          "base_uri": "https://localhost:8080/"
        },
        "id": "GSv28dP2a6de",
        "outputId": "c7dfbb75-7dbf-4444-f575-0deae8823b94"
      },
      "source": [
        "# Silhouette Score\n",
        "silhouette_score = metrics.silhouette_score(X_DR\n",
        "                                            , labels\n",
        "                                           )\n",
        "print(\"Silhouette Score:\\t\" + str(silhouette_score))"
      ],
      "execution_count": 185,
      "outputs": [
        {
          "output_type": "stream",
          "name": "stdout",
          "text": [
            "Silhouette Score:\t0.011289838995966512\n"
          ]
        }
      ]
    },
    {
      "cell_type": "code",
      "metadata": {
        "trusted": true,
        "colab": {
          "base_uri": "https://localhost:8080/"
        },
        "id": "iuOwHQora6de",
        "outputId": "ae768c87-748e-4f02-bd06-f1e900a841cd"
      },
      "source": [
        "# Davies-Bouldin Score\n",
        "davies_bouldin_score = metrics.davies_bouldin_score(X_DR\n",
        "                                                    , labels\n",
        "                                                   )\n",
        "\n",
        "print(\"Davies-Bouldin Score:\\t\" + str(davies_bouldin_score))"
      ],
      "execution_count": 64,
      "outputs": [
        {
          "output_type": "stream",
          "name": "stdout",
          "text": [
            "Davies-Bouldin Score:\t1.7726787244060809\n"
          ]
        }
      ]
    },
    {
      "cell_type": "code",
      "metadata": {
        "trusted": true,
        "colab": {
          "base_uri": "https://localhost:8080/",
          "height": 455
        },
        "id": "3QzInXXVa6df",
        "outputId": "d17e479d-903e-4305-c1ee-31fa30191985"
      },
      "source": [
        "# Coefficient of Variation\n",
        "## Assign Data points with their clusters\n",
        "df_text_ng['cluster'] = labels\n",
        "df_text_ng['cluster'].value_counts().plot(kind='bar', figsize=(15,7))"
      ],
      "execution_count": 186,
      "outputs": [
        {
          "output_type": "execute_result",
          "data": {
            "text/plain": [
              "<matplotlib.axes._subplots.AxesSubplot at 0x7fa2078522d0>"
            ]
          },
          "metadata": {},
          "execution_count": 186
        },
        {
          "output_type": "display_data",
          "data": {
            "image/png": "[encoded data removed]",
            "text/plain": [
              "<Figure size 1080x504 with 1 Axes>"
            ]
          },
          "metadata": {
            "needs_background": "light"
          }
        }
      ]
    },
    {
      "cell_type": "code",
      "metadata": {
        "trusted": true,
        "colab": {
          "base_uri": "https://localhost:8080/"
        },
        "id": "45ha1QzWa6df",
        "outputId": "f3d90c55-a529-4782-d79e-54e0312b5a75"
      },
      "source": [
        "# Top Frequency Words per Cluster\n",
        "df_text_ng[['text_clean', 'cluster']]\n",
        "\n",
        "# Get distinct clusters ordered from highest frequency to lowest frequecy\n",
        "clusters = df_text_ng['cluster'].value_counts().keys().tolist()\n",
        "\n",
        "# Number of top words to print\n",
        "print_top_x_words = 5\n",
        "\n",
        "# for each cluster\n",
        "for i in range (0, len(clusters)):\n",
        "    \n",
        "    # Print Cluster Header\n",
        "    cluster = clusters[i]\n",
        "    num_terms = df_text_ng['cluster'].value_counts().tolist()[i]\n",
        "    print(\"Cluster: \" + str(cluster) + \"\\t Number of Terms: \" + str(num_terms))\n",
        "    \n",
        "    # Print Frequency Counts\n",
        "    vectorizer = CountVectorizer().fit(df_text_ng[df_text_ng['cluster']==cluster]['text_clean'].values)\n",
        "    cluster_bog = vectorizer.transform(df_text_ng[df_text_ng['cluster']==cluster]['text_clean'].values)\n",
        "    word_sum = cluster_bog.sum(axis=0)\n",
        "    words_freq = [(word, word_sum[0, idx]) for word, idx in vectorizer.vocabulary_.items()]\n",
        "    words_freq_sorted = sorted(words_freq, key = lambda x: x[1], reverse=True)\n",
        "    print_str = \"\"\n",
        "    for item in words_freq_sorted[:print_top_x_words]:\n",
        "        print_str += (str(item[0]) + \" (\" + str(item[1]) + \")\\t\")\n",
        "    print(print_str + \"\\n\")"
      ],
      "execution_count": 187,
      "outputs": [
        {
          "output_type": "stream",
          "name": "stdout",
          "text": [
            "Cluster: -1\t Number of Terms: 930\n",
            "one (688)\tdb (560)\tlike (549)\tget (430)\tuse (385)\t\n",
            "\n",
            "Cluster: 10\t Number of Terms: 35\n",
            "get (22)\tsee (20)\tone (20)\tlike (16)\tknow (16)\t\n",
            "\n",
            "Cluster: 40\t Number of Terms: 33\n",
            "one (15)\talso (14)\tbuy (13)\tmay (12)\tmotif (12)\t\n",
            "\n",
            "Cluster: 41\t Number of Terms: 20\n",
            "one (11)\tanyone (10)\tnew (10)\tknow (10)\tget (10)\t\n",
            "\n",
            "Cluster: 99\t Number of Terms: 19\n",
            "jj (13)\tone (10)\tlike (7)\talso (7)\tuse (7)\t\n",
            "\n",
            "Cluster: 14\t Number of Terms: 18\n",
            "may (15)\tnew (12)\tone (12)\tjune (10)\tlike (9)\t\n",
            "\n",
            "Cluster: 16\t Number of Terms: 17\n",
            "like (8)\tanyone (7)\tone (6)\tstereo (6)\tcenter (5)\t\n",
            "\n",
            "Cluster: 66\t Number of Terms: 16\n",
            "like (12)\tgraeme (11)\tspace (10)\tone (8)\tta (7)\t\n",
            "\n",
            "Cluster: 24\t Number of Terms: 16\n",
            "access (11)\twindows (9)\tknow (7)\tone (7)\tuse (7)\t\n",
            "\n",
            "Cluster: 11\t Number of Terms: 16\n",
            "data (20)\tcould (16)\tuse (12)\tandrew (11)\tinput (11)\t\n",
            "\n",
            "Cluster: 109\t Number of Terms: 16\n",
            "xxxx (26)\tff (21)\thard (12)\tline (9)\tcould (8)\t\n",
            "\n",
            "Cluster: 49\t Number of Terms: 15\n",
            "got (9)\twindows (9)\tdavid (7)\tend (7)\ttime (7)\t\n",
            "\n",
            "Cluster: 51\t Number of Terms: 15\n",
            "hole (14)\tspace (13)\tadvertising (13)\tone (12)\tlaunch (10)\t\n",
            "\n",
            "Cluster: 29\t Number of Terms: 14\n",
            "sandberg (11)\talomar (10)\tuse (7)\tgood (6)\ttype (6)\t\n",
            "\n",
            "Cluster: 20\t Number of Terms: 14\n",
            "ground (31)\tgrounding (29)\tconductor (20)\tneutral (18)\trun (16)\t\n",
            "\n",
            "Cluster: 39\t Number of Terms: 13\n",
            "like (11)\tdos (8)\tbytes (7)\tmake (6)\tsomething (6)\t\n",
            "\n",
            "Cluster: 94\t Number of Terms: 13\n",
            "stats (8)\tknow (7)\tplease (7)\twarning (7)\tii (6)\t\n",
            "\n",
            "Cluster: 13\t Number of Terms: 13\n",
            "drive (9)\twindows (7)\tchip (6)\tnew (6)\tplease (5)\t\n",
            "\n",
            "Cluster: 52\t Number of Terms: 12\n",
            "umass (8)\twindows (6)\tcjackson (6)\tone (5)\thockey (5)\t\n",
            "\n",
            "Cluster: 9\t Number of Terms: 12\n",
            "unix (9)\tknow (8)\tleafs (8)\tgame (7)\tthink (6)\t\n",
            "\n",
            "Cluster: 70\t Number of Terms: 12\n",
            "one (8)\tjim (5)\tinformation (5)\tdn (5)\treply (4)\t\n",
            "\n",
            "Cluster: 31\t Number of Terms: 12\n",
            "diesel (10)\tone (9)\tengine (8)\tmb (7)\tuse (6)\t\n",
            "\n",
            "Cluster: 133\t Number of Terms: 12\n",
            "performance (8)\tsplitfires (8)\tget (6)\tanyone (6)\tknow (6)\t\n",
            "\n",
            "Cluster: 45\t Number of Terms: 11\n",
            "symbol (11)\tundefined (11)\tdet (6)\tcould (5)\tyear (5)\t\n",
            "\n",
            "Cluster: 42\t Number of Terms: 11\n",
            "td (8)\tfront (7)\tdod (6)\tgood (6)\tone (6)\t\n",
            "\n",
            "Cluster: 108\t Number of Terms: 11\n",
            "get (9)\tvolvo (7)\tlike (6)\tdata (6)\teuropeans (6)\t\n",
            "\n",
            "Cluster: 65\t Number of Terms: 10\n",
            "using (13)\tvb (11)\tkey (10)\taccelerators (10)\tctrl (10)\t\n",
            "\n",
            "Cluster: 92\t Number of Terms: 10\n",
            "service (8)\tmail (6)\tdisk (5)\tlocal (5)\tget (5)\t\n",
            "\n",
            "Cluster: 47\t Number of Terms: 10\n",
            "turbo (10)\tswitch (8)\twires (8)\tobject (7)\tled (6)\t\n",
            "\n",
            "Cluster: 36\t Number of Terms: 9\n",
            "car (9)\tnew (6)\tvlb (6)\timportant (4)\tsmall (4)\t\n",
            "\n",
            "Cluster: 12\t Number of Terms: 9\n",
            "ground (10)\talomar (6)\tback (5)\tcoin (4)\tvalue (4)\t\n",
            "\n",
            "Cluster: 88\t Number of Terms: 9\n",
            "like (8)\tneed (7)\tdata (7)\trs (6)\tway (5)\t\n",
            "\n",
            "Cluster: 80\t Number of Terms: 9\n",
            "institute (8)\tresearch (7)\tkorea (6)\tscience (5)\tsystems (5)\t\n",
            "\n",
            "Cluster: 163\t Number of Terms: 9\n",
            "high (6)\tanalog (6)\tinput (6)\tstate (6)\tcycle (5)\t\n",
            "\n",
            "Cluster: 117\t Number of Terms: 9\n",
            "imake (10)\tcpp (10)\tstart (8)\tuse (7)\taix (7)\t\n",
            "\n",
            "Cluster: 102\t Number of Terms: 9\n",
            "may (5)\tlike (4)\tzephyr (4)\tnl (4)\tal (4)\t\n",
            "\n",
            "Cluster: 21\t Number of Terms: 9\n",
            "upgrade (9)\tuse (6)\tdos (6)\tlike (5)\tradar (5)\t\n",
            "\n",
            "Cluster: 124\t Number of Terms: 8\n",
            "one (8)\tprojector (5)\tdata (5)\tlike (5)\toh (5)\t\n",
            "\n",
            "Cluster: 79\t Number of Terms: 8\n",
            "get (4)\twcl (4)\tbbs (3)\tcolor (3)\tfirst (3)\t\n",
            "\n",
            "Cluster: 0\t Number of Terms: 8\n",
            "game (6)\tadb (6)\tspace (5)\tgames (5)\tthanks (4)\t\n",
            "\n",
            "Cluster: 5\t Number of Terms: 8\n",
            "sun (8)\tanyone (7)\tmfc (7)\tchicago (5)\trun (4)\t\n",
            "\n",
            "Cluster: 18\t Number of Terms: 8\n",
            "card (6)\twindows (6)\tcould (5)\tlow (5)\tdriver (4)\t\n",
            "\n",
            "Cluster: 71\t Number of Terms: 8\n",
            "one (4)\teven (4)\tnorton (3)\tdesktop (3)\twindows (3)\t\n",
            "\n",
            "Cluster: 74\t Number of Terms: 8\n",
            "reply (6)\tplease (5)\tbig (5)\tgood (4)\tinternet (4)\t\n",
            "\n",
            "Cluster: 27\t Number of Terms: 7\n",
            "pat (6)\tanything (4)\tread (4)\tranck (4)\tmay (4)\t\n",
            "\n",
            "Cluster: 81\t Number of Terms: 7\n",
            "canseco (7)\tjose (5)\ttime (5)\topen (4)\tstance (4)\t\n",
            "\n",
            "Cluster: 116\t Number of Terms: 7\n",
            "equation (6)\tmind (5)\tmachines (5)\twork (5)\textra (5)\t\n",
            "\n",
            "Cluster: 111\t Number of Terms: 7\n",
            "pagnozzi (7)\taverage (6)\tprince (5)\tmuch (4)\tyears (4)\t\n",
            "\n",
            "Cluster: 19\t Number of Terms: 7\n",
            "mydisplay (7)\tstealth (7)\tplastic (7)\tdraw (6)\thp (6)\t\n",
            "\n",
            "Cluster: 22\t Number of Terms: 6\n",
            "window (8)\texpn (7)\tapr (5)\ttelnet (5)\tconnected (5)\t\n",
            "\n",
            "Cluster: 85\t Number of Terms: 6\n",
            "drive (6)\ttwo (4)\tadaptec (4)\tmb (4)\tmail (3)\t\n",
            "\n",
            "Cluster: 72\t Number of Terms: 6\n",
            "radar (10)\tdos (6)\tquick (5)\tdetector (5)\tspace (5)\t\n",
            "\n",
            "Cluster: 179\t Number of Terms: 6\n",
            "window (9)\tmay (7)\tone (6)\tlist (6)\tclipper (6)\t\n",
            "\n",
            "Cluster: 69\t Number of Terms: 6\n",
            "michael (5)\tcubs (5)\tthink (4)\tcould (3)\teven (3)\t\n",
            "\n",
            "Cluster: 95\t Number of Terms: 6\n",
            "speedo (6)\tever (5)\tkey (5)\tcontinental (4)\tsecurity (4)\t\n",
            "\n",
            "Cluster: 98\t Number of Terms: 6\n",
            "alomar (7)\tanybody (5)\tbaerga (5)\twidget (4)\tliverpool (3)\t\n",
            "\n",
            "Cluster: 150\t Number of Terms: 6\n",
            "graphics (6)\tbarry (4)\tweek (4)\tsprites (4)\tsupport (4)\t\n",
            "\n",
            "Cluster: 113\t Number of Terms: 6\n",
            "mac (5)\tlc (5)\tcollege (4)\tcoolant (4)\tse (4)\t\n",
            "\n",
            "Cluster: 118\t Number of Terms: 5\n",
            "kryptonite (11)\tcable (10)\tlock (8)\truns (8)\tsensor (5)\t\n",
            "\n",
            "Cluster: 59\t Number of Terms: 5\n",
            "ds (8)\tcd (5)\treciever (4)\twaterski (4)\tswitch (3)\t\n",
            "\n",
            "Cluster: 101\t Number of Terms: 5\n",
            "people (9)\tlike (9)\tnames (7)\thockey (6)\tgame (6)\t\n",
            "\n",
            "Cluster: 93\t Number of Terms: 5\n",
            "motif (10)\ticon (8)\tpixmap (5)\tfullpath (5)\tanybody (4)\t\n",
            "\n",
            "Cluster: 76\t Number of Terms: 5\n",
            "tcp (8)\tlist (6)\tburzynski (6)\tip (6)\tharley (5)\t\n",
            "\n",
            "Cluster: 73\t Number of Terms: 5\n",
            "know (6)\tlike (5)\tplease (4)\tpeople (4)\tuse (4)\t\n",
            "\n",
            "Cluster: 64\t Number of Terms: 5\n",
            "bit (6)\tget (5)\tserver (4)\tcould (4)\tstrip (4)\t\n",
            "\n",
            "Cluster: 46\t Number of Terms: 5\n",
            "drive (6)\tiig (4)\thard (4)\tryan (3)\tdistribution (3)\t\n",
            "\n",
            "Cluster: 35\t Number of Terms: 5\n",
            "thanks (4)\tconner (3)\tplease (3)\tdistribution (2)\tusa (2)\t\n",
            "\n",
            "Cluster: 25\t Number of Terms: 5\n",
            "reply (3)\tthanks (3)\tshots (3)\tdivision (3)\tnext (2)\t\n",
            "\n",
            "Cluster: 125\t Number of Terms: 5\n",
            "image (6)\tcd (5)\tpnmtops (5)\twidth (5)\tproblem (4)\t\n",
            "\n",
            "Cluster: 1\t Number of Terms: 5\n",
            "gary (3)\tway (3)\tjapanese (3)\tconditions (3)\tright (3)\t\n",
            "\n",
            "Cluster: 154\t Number of Terms: 5\n",
            "workspace (14)\tvram (7)\tmanagers (7)\tone (6)\twindows (6)\t\n",
            "\n",
            "Cluster: 146\t Number of Terms: 5\n",
            "may (5)\tus (4)\tlike (3)\table (3)\tsignal (3)\t\n",
            "\n",
            "Cluster: 153\t Number of Terms: 5\n",
            "one (6)\tcould (5)\tlot (5)\tbuffer (5)\tknow (4)\t\n",
            "\n",
            "Cluster: 112\t Number of Terms: 4\n",
            "telix (4)\tturn (3)\tken (3)\tone (3)\tdac (3)\t\n",
            "\n",
            "Cluster: 110\t Number of Terms: 4\n",
            "cold (6)\tmemory (5)\tget (4)\tstats (4)\tgas (4)\t\n",
            "\n",
            "Cluster: 106\t Number of Terms: 4\n",
            "law (3)\tchris (3)\tmodem (3)\tedinburgh (3)\tinfo (3)\t\n",
            "\n",
            "Cluster: 100\t Number of Terms: 4\n",
            "contacts (4)\tspace (4)\tgriffin (4)\toffice (4)\twordbasic (3)\t\n",
            "\n",
            "Cluster: 151\t Number of Terms: 4\n",
            "hst (7)\tmercury (5)\tone (4)\tdesigned (4)\tgame (4)\t\n",
            "\n",
            "Cluster: 91\t Number of Terms: 4\n",
            "space (4)\tart (3)\tgood (3)\tbaseball (3)\tmade (3)\t\n",
            "\n",
            "Cluster: 87\t Number of Terms: 4\n",
            "imagine (3)\talso (3)\tknow (3)\tdistribution (3)\tswerve (3)\t\n",
            "\n",
            "Cluster: 30\t Number of Terms: 4\n",
            "battery (4)\tjoshua (3)\tweage (3)\tbiggest (3)\tyoungstown (2)\t\n",
            "\n",
            "Cluster: 32\t Number of Terms: 4\n",
            "tie (6)\tlike (6)\tpeople (4)\tsupra (4)\tbuy (4)\t\n",
            "\n",
            "Cluster: 77\t Number of Terms: 4\n",
            "nissan (5)\taltima (4)\tthink (3)\tkin (3)\tspiros (3)\t\n",
            "\n",
            "Cluster: 164\t Number of Terms: 4\n",
            "card (5)\tneed (3)\tcox (3)\tsure (3)\tbraves (2)\t\n",
            "\n",
            "Cluster: 43\t Number of Terms: 4\n",
            "accelerators (14)\tolympus (11)\tnew (8)\tmenu (8)\tsatellite (7)\t\n",
            "\n",
            "Cluster: 44\t Number of Terms: 4\n",
            "drive (5)\tspeculation (5)\thard (4)\tapr (3)\tgmt (3)\t\n",
            "\n",
            "Cluster: 60\t Number of Terms: 4\n",
            "end (5)\tanyone (5)\tsoftware (4)\tkids (4)\tone (4)\t\n",
            "\n",
            "Cluster: 176\t Number of Terms: 4\n",
            "play (8)\tpower (6)\tbits (4)\tgenius (4)\tmouse (4)\t\n",
            "\n",
            "Cluster: 53\t Number of Terms: 4\n",
            "best (6)\ttape (6)\tdrive (5)\tapple (5)\tbackup (5)\t\n",
            "\n",
            "Cluster: 17\t Number of Terms: 4\n",
            "radiologist (6)\tneed (5)\ttrained (5)\twant (5)\tjohn (3)\t\n",
            "\n",
            "Cluster: 50\t Number of Terms: 4\n",
            "backup (7)\tbmw (7)\tbattery (7)\tone (5)\tusa (4)\t\n",
            "\n",
            "Cluster: 135\t Number of Terms: 4\n",
            "ws (5)\toverlapped (4)\twindow (4)\tthickframe (4)\twithout (3)\t\n",
            "\n",
            "Cluster: 3\t Number of Terms: 4\n",
            "one (6)\tengland (4)\tback (4)\teven (3)\tbars (3)\t\n",
            "\n",
            "Cluster: 141\t Number of Terms: 4\n",
            "leafs (4)\ttime (3)\twings (3)\tfile (2)\tmanager (2)\t\n",
            "\n",
            "Cluster: 8\t Number of Terms: 4\n",
            "driver (8)\thit (5)\twife (5)\tsound (5)\tblaster (5)\t\n",
            "\n",
            "Cluster: 4\t Number of Terms: 4\n",
            "edge (10)\tcubs (9)\tvs (8)\tprojector (5)\tget (5)\t\n",
            "\n",
            "Cluster: 131\t Number of Terms: 4\n",
            "chip (4)\tuart (3)\tgood (3)\tdave (3)\tstephenson (3)\t\n",
            "\n",
            "Cluster: 2\t Number of Terms: 4\n",
            "one (5)\tkidney (3)\tcolor (3)\telizabeth (2)\tneiseria (2)\t\n",
            "\n",
            "Cluster: 123\t Number of Terms: 4\n",
            "infield (4)\tfly (4)\tcaught (4)\trunner (3)\tball (3)\t\n",
            "\n",
            "Cluster: 103\t Number of Terms: 3\n",
            "original (9)\tprice (9)\tibm (6)\tincludes (6)\tsoftware (5)\t\n",
            "\n",
            "Cluster: 187\t Number of Terms: 3\n",
            "hypercard (4)\tbetter (3)\tavailable (3)\tsee (3)\thard (3)\t\n",
            "\n",
            "Cluster: 172\t Number of Terms: 3\n",
            "use (5)\tshared (4)\tmemory (4)\tserver (4)\tpixmaps (4)\t\n",
            "\n",
            "Cluster: 171\t Number of Terms: 3\n",
            "car (8)\teffect (6)\tmedicine (5)\tcalled (4)\tbetter (4)\t\n",
            "\n",
            "Cluster: 67\t Number of Terms: 3\n",
            "chak (2)\taw (2)\tmicrosoft (2)\tdiagnostics (2)\tdistribution (2)\t\n",
            "\n",
            "Cluster: 127\t Number of Terms: 3\n",
            "space (5)\tnavigation (3)\tknox (3)\tcould (3)\tget (3)\t\n",
            "\n",
            "Cluster: 82\t Number of Terms: 3\n",
            "earls (2)\tcx (2)\tturbo (2)\tphil (2)\ttrodwell (2)\t\n",
            "\n",
            "Cluster: 83\t Number of Terms: 3\n",
            "soil (3)\tpond (3)\tmen (3)\twithout (3)\thats (3)\t\n",
            "\n",
            "Cluster: 26\t Number of Terms: 3\n",
            "cview (3)\topen (3)\tkevin (2)\tmartin (2)\tprogramming (2)\t\n",
            "\n",
            "Cluster: 159\t Number of Terms: 3\n",
            "please (3)\tislanders (3)\tmail (3)\tlist (3)\tmanish (2)\t\n",
            "\n",
            "Cluster: 169\t Number of Terms: 3\n",
            "birth (8)\ttime (6)\tone (6)\tdriver (5)\twife (5)\t\n",
            "\n",
            "Cluster: 34\t Number of Terms: 3\n",
            "windows (11)\tdos (6)\tpass (4)\tsteven (3)\tok (3)\t\n",
            "\n",
            "Cluster: 186\t Number of Terms: 3\n",
            "emm (4)\twindows (4)\tdos (3)\tnorton (3)\tdavid (3)\t\n",
            "\n",
            "Cluster: 37\t Number of Terms: 3\n",
            "disks (7)\tbeeps (6)\tmower (5)\tmany (4)\tlawn (4)\t\n",
            "\n",
            "Cluster: 38\t Number of Terms: 3\n",
            "key (7)\tcourt (6)\tfile (6)\tlawyer (4)\tget (4)\t\n",
            "\n",
            "Cluster: 132\t Number of Terms: 3\n",
            "radar (4)\tcar (4)\tben (3)\tquestion (3)\tcanberra (3)\t\n",
            "\n",
            "Cluster: 175\t Number of Terms: 3\n",
            "monitor (9)\tastronomy (8)\tbook (5)\tworld (5)\tknow (5)\t\n",
            "\n",
            "Cluster: 184\t Number of Terms: 3\n",
            "wear (3)\treply (3)\tems (3)\tstern (2)\tdartmouth (2)\t\n",
            "\n",
            "Cluster: 178\t Number of Terms: 3\n",
            "windows (5)\tgt (5)\tcopy (4)\tprobe (4)\tcar (4)\t\n",
            "\n",
            "Cluster: 97\t Number of Terms: 3\n",
            "jewish (5)\thank (3)\tstefan (2)\tvirtual (2)\tmwm (2)\t\n",
            "\n",
            "Cluster: 203\t Number of Terms: 3\n",
            "macx (4)\tcolor (4)\twindows (4)\tphone (4)\tproblem (3)\t\n",
            "\n",
            "Cluster: 192\t Number of Terms: 3\n",
            "stephen (3)\thusak (3)\ttrying (3)\tbrian (2)\tsheets (2)\t\n",
            "\n",
            "Cluster: 142\t Number of Terms: 3\n",
            "card (5)\tethernet (3)\tchip (3)\tsecurity (3)\tmiro (3)\t\n",
            "\n",
            "Cluster: 194\t Number of Terms: 3\n",
            "one (4)\tgood (4)\tflyers (4)\tcellular (3)\tphone (3)\t\n",
            "\n",
            "Cluster: 58\t Number of Terms: 3\n",
            "get (3)\tinfo (3)\tsource (3)\tprogram (3)\twindows (3)\t\n",
            "\n",
            "Cluster: 55\t Number of Terms: 3\n",
            "bzz (3)\tforbes (2)\tbeekeeping (2)\tdavid (2)\twells (2)\t\n",
            "\n",
            "Cluster: 56\t Number of Terms: 3\n",
            "limit (4)\tbuild (3)\txterm (2)\tethan (2)\tprotocol (2)\t\n",
            "\n",
            "Cluster: 107\t Number of Terms: 3\n",
            "hepatitis (5)\thep (5)\tchronic (5)\tdriver (4)\tdisc (4)\t\n",
            "\n",
            "Cluster: 147\t Number of Terms: 3\n",
            "use (10)\tpen (9)\tinstallation (9)\tgeneral (7)\tregister (7)\t\n",
            "\n",
            "Cluster: 201\t Number of Terms: 3\n",
            "good (5)\tcostello (3)\tsprayed (3)\tmicrophone (3)\tlow (3)\t\n",
            "\n",
            "Cluster: 182\t Number of Terms: 2\n",
            "dc (5)\tdrivers (3)\tlandings (3)\tgreg (2)\tennis (2)\t\n",
            "\n",
            "Cluster: 205\t Number of Terms: 2\n",
            "helmet (7)\tcmos (6)\tshoei (5)\tlike (5)\tget (5)\t\n",
            "\n",
            "Cluster: 180\t Number of Terms: 2\n",
            "daniel (2)\tmccoy (2)\txrecplay (2)\treply (2)\tnet (2)\t\n",
            "\n",
            "Cluster: 183\t Number of Terms: 2\n",
            "jemison (2)\tbetter (2)\tshuttle (2)\tspace (2)\tmission (2)\t\n",
            "\n",
            "Cluster: 181\t Number of Terms: 2\n",
            "plastic (4)\tseca (4)\tmichael (3)\tcompound (3)\twork (3)\t\n",
            "\n",
            "Cluster: 177\t Number of Terms: 2\n",
            "firm (4)\tclass (4)\tbreeding (3)\thorses (3)\tyears (2)\t\n",
            "\n",
            "Cluster: 48\t Number of Terms: 2\n",
            "using (3)\tsystems (2)\tanyone (2)\tknow (2)\tget (2)\t\n",
            "\n",
            "Cluster: 199\t Number of Terms: 2\n",
            "like (4)\tknow (4)\tchris (3)\tperformance (3)\tauto (3)\t\n",
            "\n",
            "Cluster: 185\t Number of Terms: 2\n",
            "heat (6)\tcurrent (4)\teffect (4)\tbad (3)\tpaul (3)\t\n",
            "\n",
            "Cluster: 23\t Number of Terms: 2\n",
            "msg (7)\tblood (7)\tbrain (6)\tamounts (3)\tlevels (3)\t\n",
            "\n",
            "Cluster: 15\t Number of Terms: 2\n",
            "quadra (3)\tsigma (2)\tdesigns (2)\tdouble (2)\treply (2)\t\n",
            "\n",
            "Cluster: 197\t Number of Terms: 2\n",
            "pain (7)\tsince (3)\tjoel (3)\twhite (3)\tway (3)\t\n",
            "\n",
            "Cluster: 200\t Number of Terms: 2\n",
            "nuclear (4)\ttemp (3)\tdavid (2)\tlesher (2)\tcooling (2)\t\n",
            "\n",
            "Cluster: 202\t Number of Terms: 2\n",
            "rolling (6)\tstones (6)\tpicture (5)\tlondon (4)\tsleeve (4)\t\n",
            "\n",
            "Cluster: 196\t Number of Terms: 2\n",
            "much (13)\tautobahn (8)\tmustang (7)\teurope (7)\tspeed (6)\t\n",
            "\n",
            "Cluster: 195\t Number of Terms: 2\n",
            "bsd (4)\tjason (3)\tboston (3)\tchris (3)\tunix (3)\t\n",
            "\n",
            "Cluster: 193\t Number of Terms: 2\n",
            "max (3)\tcolor (3)\trochlin (2)\tshow (2)\tgoing (2)\t\n",
            "\n",
            "Cluster: 191\t Number of Terms: 2\n",
            "serial (4)\tsteven (3)\tlanglois (3)\tnumber (3)\tdevices (3)\t\n",
            "\n",
            "Cluster: 33\t Number of Terms: 2\n",
            "mark (2)\tnewspaper (2)\tadler (1)\timages (1)\tearth (1)\t\n",
            "\n",
            "Cluster: 190\t Number of Terms: 2\n",
            "version (2)\tbob (2)\tplayers (2)\tmichael (1)\twiggs (1)\t\n",
            "\n",
            "Cluster: 7\t Number of Terms: 2\n",
            "vesa (13)\tmode (6)\tstandard (5)\tvga (5)\tvideo (5)\t\n",
            "\n",
            "Cluster: 189\t Number of Terms: 2\n",
            "gainey (21)\tbob (16)\tthink (15)\tgilmour (12)\tdoug (9)\t\n",
            "\n",
            "Cluster: 28\t Number of Terms: 2\n",
            "page (3)\tvga (3)\tgames (3)\tflipping (2)\tnew (2)\t\n",
            "\n",
            "Cluster: 188\t Number of Terms: 2\n",
            "cancer (5)\tbowers (3)\tporsche (3)\tvette (3)\ttaste (3)\t\n",
            "\n",
            "Cluster: 6\t Number of Terms: 2\n",
            "printer (3)\tproblem (2)\tdistribution (2)\tworld (2)\tusing (2)\t\n",
            "\n",
            "Cluster: 198\t Number of Terms: 2\n",
            "fiberglass (5)\tregal (4)\tparts (4)\tandreas (3)\tdunker (2)\t\n",
            "\n",
            "Cluster: 204\t Number of Terms: 2\n",
            "pointer (9)\timplement (4)\tfeature (4)\txlib (4)\twindows (4)\t\n",
            "\n",
            "Cluster: 137\t Number of Terms: 2\n",
            "harddisk (6)\ttest (4)\taltitude (3)\tcities (3)\tsurface (3)\t\n",
            "\n",
            "Cluster: 174\t Number of Terms: 2\n",
            "mhz (8)\tremove (6)\tboard (6)\tlifting (5)\tclock (4)\t\n",
            "\n",
            "Cluster: 119\t Number of Terms: 2\n",
            "windows (15)\tsoftware (12)\tmay (10)\twsm (9)\tshareware (8)\t\n",
            "\n",
            "Cluster: 149\t Number of Terms: 2\n",
            "ibm (15)\tpc (10)\tcompatible (8)\tmicrotest (7)\tsee (7)\t\n",
            "\n",
            "Cluster: 148\t Number of Terms: 2\n",
            "ripem (97)\tkey (59)\tpublic (39)\tpgp (39)\trsa (34)\t\n",
            "\n",
            "Cluster: 206\t Number of Terms: 2\n",
            "lowell (3)\tappletalk (3)\tusing (3)\tcopying (3)\tjapanese (3)\t\n",
            "\n",
            "Cluster: 104\t Number of Terms: 2\n",
            "scanjet (3)\tneed (3)\tpc (3)\tkyler (2)\thp (2)\t\n",
            "\n",
            "Cluster: 105\t Number of Terms: 2\n",
            "chemistry (3)\tbooks (2)\tplease (2)\twriting (2)\tgood (2)\t\n",
            "\n",
            "Cluster: 145\t Number of Terms: 2\n",
            "extended (4)\tmoney (4)\tmany (4)\tpeople (4)\tandrew (3)\t\n",
            "\n",
            "Cluster: 144\t Number of Terms: 2\n",
            "sun (4)\tsoftware (4)\tserver (3)\tkernel (3)\tanita (3)\t\n",
            "\n",
            "Cluster: 114\t Number of Terms: 2\n",
            "printer (4)\tstuart (3)\tplay (3)\tmunn (2)\tlisa (2)\t\n",
            "\n",
            "Cluster: 115\t Number of Terms: 2\n",
            "fuel (5)\tinjector (5)\tgood (4)\tcindy (4)\tbj (4)\t\n",
            "\n",
            "Cluster: 143\t Number of Terms: 2\n",
            "summer (4)\tkoshy (3)\tgeorge (3)\tseattle (3)\twashington (3)\t\n",
            "\n",
            "Cluster: 120\t Number of Terms: 2\n",
            "stop (3)\tleft (2)\tturn (2)\tsignal (2)\tsteering (2)\t\n",
            "\n",
            "Cluster: 96\t Number of Terms: 2\n",
            "one (4)\tjohn (3)\twashington (3)\tpenguins (3)\treply (2)\t\n",
            "\n",
            "Cluster: 121\t Number of Terms: 2\n",
            "postscript (10)\tprinter (9)\tquality (5)\tdiamond (4)\tseen (4)\t\n",
            "\n",
            "Cluster: 122\t Number of Terms: 2\n",
            "one (4)\tnew (3)\tkuiper (3)\tobject (3)\tmay (3)\t\n",
            "\n",
            "Cluster: 140\t Number of Terms: 2\n",
            "kingman (3)\tmurray (3)\tspeckman (2)\trom (2)\taccelerated (2)\t\n",
            "\n",
            "Cluster: 139\t Number of Terms: 2\n",
            "ralph (2)\tsc (2)\tworld (2)\tbijan (2)\tbuttigieg (1)\t\n",
            "\n",
            "Cluster: 126\t Number of Terms: 2\n",
            "value (6)\toutput (5)\tdigital (4)\tvoltmeter (4)\tmeasure (4)\t\n",
            "\n",
            "Cluster: 128\t Number of Terms: 2\n",
            "honda (3)\tclayton (2)\tbrooks (2)\tsprocket (2)\tcb (2)\t\n",
            "\n",
            "Cluster: 129\t Number of Terms: 2\n",
            "security (8)\tsystem (8)\tgovernment (6)\tproposal (6)\tlimited (6)\t\n",
            "\n",
            "Cluster: 130\t Number of Terms: 2\n",
            "flames (7)\tboxer (3)\tfan (3)\tgame (3)\tal (2)\t\n",
            "\n",
            "Cluster: 138\t Number of Terms: 2\n",
            "seca (4)\ttake (3)\tbeavington (2)\treply (2)\tottawa (2)\t\n",
            "\n",
            "Cluster: 134\t Number of Terms: 2\n",
            "amanda (3)\twalker (3)\tintercon (3)\thockey (2)\tdistribution (2)\t\n",
            "\n",
            "Cluster: 152\t Number of Terms: 2\n",
            "thinwire (8)\taui (8)\tadapter (7)\tget (6)\tdecstation (6)\t\n",
            "\n",
            "Cluster: 155\t Number of Terms: 2\n",
            "suck (2)\tjays (2)\tgame (2)\trobert (1)\thorton (1)\t\n",
            "\n",
            "Cluster: 54\t Number of Terms: 2\n",
            "object (4)\tenergy (3)\thenry (3)\tdavid (2)\tnye (2)\t\n",
            "\n",
            "Cluster: 165\t Number of Terms: 2\n",
            "recent (3)\talfa (3)\tmechanical (3)\taspartame (3)\tted (2)\t\n",
            "\n",
            "Cluster: 57\t Number of Terms: 2\n",
            "want (5)\tusers (5)\tgood (4)\tone (4)\tpeople (3)\t\n",
            "\n",
            "Cluster: 173\t Number of Terms: 2\n",
            "master (3)\tjoni (2)\tcylinder (2)\tthanks (2)\teveryone (2)\t\n",
            "\n",
            "Cluster: 61\t Number of Terms: 2\n",
            "mac (6)\tcould (5)\ttime (5)\tneed (4)\thardware (4)\t\n",
            "\n",
            "Cluster: 62\t Number of Terms: 2\n",
            "stacks (4)\tphysician (4)\twindows (3)\tkeeps (3)\tcrashing (3)\t\n",
            "\n",
            "Cluster: 63\t Number of Terms: 2\n",
            "ax (6622)\tmax (466)\tdi (192)\ttm (68)\tpl (63)\t\n",
            "\n",
            "Cluster: 170\t Number of Terms: 2\n",
            "graphics (6)\tbook (5)\ttiang (3)\tlike (3)\tgood (3)\t\n",
            "\n",
            "Cluster: 136\t Number of Terms: 2\n",
            "maine (2)\tryan (2)\trobbins (2)\tman (2)\troster (2)\t\n",
            "\n",
            "Cluster: 168\t Number of Terms: 2\n",
            "unsubscribe (3)\tnguyen (2)\tmcmaster (2)\thamilton (2)\tcould (2)\t\n",
            "\n",
            "Cluster: 167\t Number of Terms: 2\n",
            "clinton (3)\tadministration (3)\tkuenning (2)\tscience (2)\tdoor (2)\t\n",
            "\n",
            "Cluster: 166\t Number of Terms: 2\n",
            "hc (7)\teprom (3)\tparts (3)\tpeople (2)\tstop (2)\t\n",
            "\n",
            "Cluster: 75\t Number of Terms: 2\n",
            "tires (4)\tgraphic (4)\tcb (3)\tathena (3)\tcontex (3)\t\n",
            "\n",
            "Cluster: 156\t Number of Terms: 2\n",
            "hp (4)\tsteven (2)\teckwielen (2)\tsx (2)\trochester (2)\t\n",
            "\n",
            "Cluster: 162\t Number of Terms: 2\n",
            "burkhard (2)\tneidecker (2)\tlutz (2)\tcec (2)\tkarlsruhe (2)\t\n",
            "\n",
            "Cluster: 78\t Number of Terms: 2\n",
            "please (4)\tbaud (3)\tspirit (3)\tii (3)\tmodem (3)\t\n",
            "\n",
            "Cluster: 161\t Number of Terms: 2\n",
            "electronic (4)\tbook (4)\tcolor (4)\tidea (3)\tinformation (3)\t\n",
            "\n",
            "Cluster: 160\t Number of Terms: 2\n",
            "esdi (6)\tide (6)\tdrive (5)\tmac (4)\tpossible (4)\t\n",
            "\n",
            "Cluster: 84\t Number of Terms: 2\n",
            "bit (8)\tcould (8)\tself (6)\tmodifying (5)\torders (5)\t\n",
            "\n",
            "Cluster: 158\t Number of Terms: 2\n",
            "comet (6)\tjupiter (5)\twindows (4)\tnew (4)\thiggins (4)\t\n",
            "\n",
            "Cluster: 86\t Number of Terms: 2\n",
            "phonenet (2)\tmidi (2)\tmacrecorder (2)\tadapters (2)\tnew (2)\t\n",
            "\n",
            "Cluster: 157\t Number of Terms: 2\n",
            "patrick (2)\tmahan (2)\ttektronix (2)\tlazarus (2)\tlong (2)\t\n",
            "\n",
            "Cluster: 89\t Number of Terms: 2\n",
            "canon (6)\tmoolit (5)\tolit (3)\tavailable (3)\tsystem (2)\t\n",
            "\n",
            "Cluster: 90\t Number of Terms: 2\n",
            "simm (3)\tanthony (2)\tsaxton (2)\ttude (2)\triceburner (2)\t\n",
            "\n",
            "Cluster: 68\t Number of Terms: 2\n",
            "near (6)\thoward (5)\tsummer (3)\tgeoff (2)\tfenway (2)\t\n",
            "\n"
          ]
        }
      ]
    },
    {
      "cell_type": "code",
      "metadata": {
        "id": "D5P4QKDNpoPV"
      },
      "source": [
        ""
      ],
      "execution_count": null,
      "outputs": []
    },
    {
      "cell_type": "code",
      "metadata": {
        "colab": {
          "base_uri": "https://localhost:8080/"
        },
        "id": "vs9uYKdwckOw",
        "outputId": "b16a6681-562b-42f0-beb8-0eea621b3cbd"
      },
      "source": [
        "for i in range(0,K):\n",
        "  print('Cluster',i)\n",
        "  print(df_text_ng[df_text_ng['cluster'] == i].head(5))"
      ],
      "execution_count": 84,
      "outputs": [
        {
          "output_type": "stream",
          "name": "stdout",
          "text": [
            "Cluster 0\n",
            "                                                                                                                                                                                                                                                                                                                                                                                                                                                                                                                                                                                                                                                                                                                                                                                                                                                                                                                                                                                                                                        text  ... cluster\n",
            "109                                                                                                                                                                                                                                                                                                                                                                                                                                                                                                  From: ferch@ucs.ubc.ca (Les Ferch)\\nSubject: Re: When is Apple going to ship CD300i's?\\nOrganization: The University of British Columbia\\nLines: 5\\nNNTP-Posting-Host: swiss.ucs.ubc.ca\\n\\nNote that if you get the external CD300 for your Centris or Q800 you will\\nmiss out on the sound mixing feature unless you are willing to run a wire\\nfrom the motherboard sound input connector to the stereo output on the CD. \\nConnecting to the sound input port on the back of the computer won't do\\nunless you can live with mono.\\n  ...       0\n",
            "136  From: sunnyt@coding.bchs.uh.edu\\nSubject: Re: When is Apple going to ship CD300i's?\\nOrganization: University of Houston\\nLines: 22\\nReply-To: ln63sdm@sdcc4.ucsd.edu\\nNNTP-Posting-Host: franklin.bchs.uh.edu\\n\\nIn article <1993Apr19.164734.24779@newsgate.sps.mot.com>  \\nrjacks@austlcm.sps.mot.com (rodney jacks) writes:\\n> I would really like to get one of the new CD300i CDROM\\n> drives for my c650, but my local Apple doesn't know \\n> when they will be available.  He doesn't even have a part\\n> number yet.   Does anyone know what the part number \\n> for this drive is and when it will be available?\\n> \\n> My Apple dealer suggested I buy one of the CD300 external\\n> drives, but I don't want to pay extra for a case/power supply\\n> I'm not going to use.\\n> \\n> -Rodney Jacks\\n> (rjacks@austlcm.sps.mot.com)\\n\\nThe CD300 (external) is already shipping and has been shipping for quite awhile  \\nnow.  Demand for the units are high, so they are pretty rare.  I've seen them  \\nlisted for around ...  ...       0\n",
            "282                                                                                                                                                                                                                                                                                                                                                                                                                                                                                                                                                                                                                                                   From: pbenson@ecst.csuchico.edu (Paul A. Benson)\\nSubject: CD-ROM Indexes available\\nOrganization: California State University, Chico\\nLines: 6\\nNNTP-Posting-Host: cscihp.ecst.csuchico.edu\\n\\nThe file and contents listings for:\\n\\nKnowledge Media Resource Library: Graphics 1\\nKnowledge Media Resource Library: Audio 1\\n\\nare now available for anonymous FTP from cdrom.com\\n  ...       0\n",
            "308  From: bprofane@netcom.com (Gert Niewahr)\\nSubject: Re: Rumours about 3DO ???\\nArticle-I.D.: netcom.bprofaneC51wHz.HIo\\nOrganization: Netcom Online Communications Services (408-241-9760 login: guest)\\nLines: 39\\n\\nIn article <C51Eyz.4Ix@optimla.aimla.com> lex@optimla.aimla.com (Lex van Sonderen) writes:\\n>In article <h1p4s4g@zola.esd.sgi.com> erik@westworld.esd.sgi.com (Erik Fortune) writes:\\n>>> better than CDI\\n>>*Much* better than CDI.\\n>Of course, I do not agree.  It does have more horsepower.  Horsepower is not\\n>the only measurement for 'better'.  It does not have full motion, full screen\\n>video yet.  Does it have CD-ROM XA?\\n>\\n>>> starting in the 4 quarter of 1993\\n>>The first 3DO \"multiplayer\" will be manufactured by panasonic and will be \\n>>available late this year.   A number of other manufacturers are reported to \\n>>have 3DO compatible boxes in the works.\\n>Which other manufacturers?\\n>We shall see about the date.\\n\\nA 3DO marketing rep. recently offered a Phillips ma...  ...       0\n",
            "449  From: dchurch@nmt.edu (Dan Church)\\nSubject: *** Lots of CDs For Sale! ***\\nArticle-I.D.: nmt.1993Apr19.213217.15250\\nDistribution: na\\nOrganization: New Mexico Tech\\nLines: 43\\n\\n\\nI have a lot of CDs for sale.  Prices are $7 per CD and $3 per CD Single.\\nCDs are noted by (CD) and CD Singles by (CDS).  Please include $1 extra\\nper CD for s/h costs.  IF you want to buy a lot of them, then we'll work \\nout a deal with the shipping costs!\\n\\nType      Group                         Title\\n---------------------------------------------\\n\\nCDS       Boys to Men                   Motown Philly\\nCDS       C & C Music Factory           Keep it Comin'\\nCDS       Moby                          Go (Remixes)\\nCDS       Quadrophonia                  Schizophrenia\\nCDS       Swing Out Sister              Not Gonna Change\\nCDS       Recoil                        Faith Healer\\nCDS       Seal                          The Beginning\\nCDS       Transvision Vamp              Tranvision Vamp\\nCDS       C ...  ...       0\n",
            "\n",
            "[5 rows x 8 columns]\n",
            "Cluster 1\n",
            "                                                                                                                                                                                                                                                                                                                                                                                                                                                                                                                                                                                                                                                                                                                                                                                                                                                                                                                                                                                                                                       text  ... cluster\n",
            "10  From: schwartz@ils.nwu.edu (diane schwartz)\\nSubject: SIGKids Research Showcase Call\\nOrganization: institute for the learning sciences\\nLines: 250\\nDistribution: world\\nNNTP-Posting-Host: schwartz.ils.nwu.edu\\n\\n\\t\\tSIGKIDS CALL FOR PARTICIPATION\\nSIGKids Research Showcase is where learning is hip.  Pushing the edge in\\neducation, computer graphics, and new technologies, the SIGKids Research\\nShowcase will provide SIGGRAPH's attendees with the latest in applying\\ncomputer technology to form state of the art educational experiences.  So\\nhop to it!  Submit any works which converge the disciplines of education\\nand computer technology.\\n\\nPossible categories and domains include but are NOT LIMITED to:\\n\\n-Interactive/stand-alone applications\\n-Self-Run demonstrations and tutorials\\n-Museum Installations\\n-Groupware/Collaborative systems\\n-Hypermedia\\n-Virtual Reality\\n-Scientific Visualization\\n-Interactive Art\\n-Microworlds\\n\\nDeadlines:\\n\\nMay 21, 1993 submissions due  \\n\\n\\nSubmi...  ...       1\n",
            "15                                                                                                                                                                                                                                                                                                                                                                                                                                                                                                                                                                                                                                                                                                                                                 From: jlong@brtph368.BNR.CA (John Long P205)\\nSubject: Need xman source\\nReply-To: jlong@brtph368.BNR.CA (John Long P205)\\nOrganization: Bell-Northern Research Ltd.\\nLines: 3\\n\\n   Where can I get xman source?  I would rather get \\nxman for an HP 9000/700, but source will do.\\n\\n  ...       1\n",
            "28                                                                                                                                                                                                                                                                                                                                                                                                                                                                              From: jap10@po.CWRU.Edu (Joseph A. Pellettiere)\\nSubject: Sigma Designs Double up??\\nArticle-I.D.: usenet.1psdv2$gr5\\nReply-To: jap10@po.CWRU.Edu\\nOrganization: Case Western Reserve University, Cleveland, Ohio (USA)\\nLines: 8\\nNNTP-Posting-Host: thor.ins.cwru.edu\\n\\n\\n\\tI am looking for any information about the Sigma Designs\\n\\tdouble up board.  All I can figure out is that it is a\\n\\thardware compression board that works with AutoDoubler, but\\n\\tI am not sure about this.  Also how much would one cost?\\n-- \\nJoe\\njap10@po.cwru.edu\\n  ...       1\n",
            "40                                      From: pchang@ic.sunysb.edu (Pong Chang)\\nSubject: Re: Computer Parts/Camcorder\\nNntp-Posting-Host: libws4.ic.sunysb.edu\\nOrganization: State University of New York at Stony Brook\\nLines: 21\\n\\nIn article <C4z2CF.2n6@cscns.com> zardox@cscns.com (Randie O'Neal) writes:\\n>\\n>: 5.25\" 1.2MB and 3.5\" 1.44 Drives...new... planned on building machine, but\\n>: ran out of funds... $30.00 each drive\\n>\\n>Carl,\\n>What Brand of drives are these? Do you have documentation?\\n>I'll go $40.00 + shipping if you have documentation...\\n\\ndo not pay $40 for floppy drives.. they are about $40 new.\\nalso, you do not need documentation for floppies. installation\\nfor these things are idiot proof. \\njust some advice..\\n\\n-- \\n**********************************************************************\\nC_ommon  \\tpchang@ic.sunysb.edu \\t\\t\\nS_ense\\t\\tState University of New York @ Stony Brook \\nE_ngineer\\t\\n**********************************************************************\\n\\n  ...       1\n",
            "42                                                                                                                                                                                                      From: erc@plitvice.berkeley.edu (Eric Ng)\\nSubject: Sega Genesis plus 9 sports games for sale\\nNntp-Posting-Host: plitvice.berkeley.edu\\nOrganization: University of California at Berkeley\\nDistribution: usa\\nLines: 23\\n\\nFOR SALE\\n\\n\\t1 Sega Genesis (including all cables, manuals, boxes)\\n\\t1 controller\\n\\t9 games, including all manuals and boxes:\\n\\t\\tSonic the Hedgehog\\n\\t\\tRoad Rash\\n\\t\\tJohn Madden Football '92\\n\\t\\tN.H.L. Hockey\\n\\t\\tSportstalk Baseball\\n\\t\\tBulls vs. Lakers and the N.B.A. Playoffs\\n\\t\\tJohn Madden Football '93\\n\\t\\tN.H.L.P.A. Hockey\\n\\t\\tSuper Monaco GP II\\n\\nAll of the above for $300 (or best offer); price includes UPS COD\\nshipping.\\n\\nSend e-mail to erc@zabriskie.berkeley.edu if interested.\\n\\n-eric\\n--\\neric ng  erc@zabriskie.berkeley.edu  ...!ucbvax!zabriskie!erc\\n  ...       1\n",
            "\n",
            "[5 rows x 8 columns]\n",
            "Cluster 2\n",
            "                                                                                                                                                                                                                                                                                                                                                                                                                                                                                                                                                                                                                                                                                                                                                                                                                                                                                                                                                                                                                                       text  ... cluster\n",
            "20  From: crypt-comments@math.ncsu.edu\\nSubject: Cryptography FAQ 06/10 - Public Key Cryptography\\nOrganization: The Crypt Cabal\\nLines: 108\\nExpires: 22 May 1993 04:00:07 GMT\\nReply-To: crypt-comments@math.ncsu.edu\\nNNTP-Posting-Host: pad-thai.aktis.com\\nSummary: Part 6 of 10 of the sci.crypt FAQ, Public Key Cryptography.\\n Basics of public-key cryptography. The RSA version, its security, \\n speed of factoring. Other approaches.\\nX-Last-Updated: 1993/04/16\\n\\nArchive-name: cryptography-faq/part06\\nLast-modified: 1993/4/15\\n\\n\\nFAQ for sci.crypt, part 6: Public-Key Cryptography\\n\\nThis is the sixth of ten parts of the sci.crypt FAQ. The parts are\\nmostly independent, but you should read the first part before the rest.\\nWe don't have the time to send out missing parts by mail, so don't ask.\\nNotes such as ``[KAH67]'' refer to the reference list in the last part.\\n\\nThe sections of this FAQ are available via anonymous FTP to rtfm.mit.edu \\nas /pub/usenet/news.answers/cryptography-faq/par...  ...       2\n",
            "30  From: caronni@nessie.cs.id.ethz.ch (Germano Caronni)\\nSubject: Re: More technical details\\nOrganization: Swiss Federal Institute of Technology (ETH), Zurich, CH\\nLines: 120\\n\\nHmm, followup on my own posting... Well, who cares.\\n\\nFirst let me try to work out the facts that we get to know about the\\nClipper-Chip, from what Hellman and Denning were able to tell us:\\n\\nThe chip itself is not confined to (digital) telephony, but performs\\ngeneral encryption in a symmetric manner.  The chip supports CFB OFB\\nECB (and whatever the fourth mode of operation for DES is), the algorithm\\nconsists of 32 rounds of *whatever*, and takes 80-Bit keys. Input data\\nseems to be 64 Bit? Yes.\\nSo if two people want secure communication (whatever that means when \\nClipper is involved) they have first to agree on ONE secret key. \\n(Or is it one key per direction ?)\\nThey can exchange this key via DH-schemes or however.\\nSomehow the two feed their so won secret key into the Clipper-chip\\nwhich is now rea...  ...       2\n",
            "37  Subject: Re: How large are commercial keys?\\nFrom: pgut1@cs.aukuni.ac.nz (Peter Gutmann)\\nOrganization: Computer Science Dept. University of Auckland\\nLines: 17\\n\\nIn <1993Apr20.182038.12009@ee.eng.ohio-state.edu> butzerd@maumee.eng.ohio-state.edu (Dane C. Butzer) writes:\\n\\n>What are the typical sizes for keys for commercial secret key algorithms?\\n>I know DES is 56 bits (\"tripple DES\" is 112 bits) and IDEA is 128 bits.  Is\\n>there anything made in the US that has 128 bit keys?  Anything anywhere\\n>that has larger keys?  I've heard that RC2 can be scaled to arbitrarily\\n>large keys, but is this actually implemented anywhere?\\n\\nMy MDC cipher (which uses any one-way hash function as a CFB-mode stream\\ncipher, the current implementation uses MD5) uses a key of up to 2048 bits\\n(that is, you can use a 1-bit key if you want and copy it over the entire\\n2048-bit range, or you can use the entire 2048 bits).  Runtime is\\nindependant of key size, the system runs slightly slower than MD5 i...  ...       2\n",
            "38  From: ld231782@longs.lance.colostate.edu (L. Detweiler)\\nSubject: Privacy & Anonymity on the Internet FAQ (2 of 3)\\nSupersedes: <net-privacy/part2_733153240@GZA.COM>\\nOrganization: TMP Enterprises\\nLines: 1543\\nExpires: 21 May 1993 04:00:06 GMT\\nReply-To: ld231782@longs.lance.colostate.edu\\nNNTP-Posting-Host: pad-thai.aktis.com\\nSummary: Email and account privacy, anonymity, file encryption, \\n academic computer policies, relevant legislation and references, \\n EFF, and other privacy and rights issues associated with use of the\\n Internet and global networks in general.\\nX-Last-Updated: 1993/03/04\\n\\nArchive-name: net-privacy/part2\\nLast-modified: 1993/3/3\\nVersion: 2.1\\n\\n\\nIDENTITY, PRIVACY, and ANONYMITY on the INTERNET\\n================================================\\n\\n(c) 1993 L. Detweiler.  Not for commercial use except by permission\\nfrom author, otherwise may be freely copied.  Not to be altered. \\nPlease credit if quoted.\\n\\nSUMMARY\\n=======\\n\\nEmail and account privacy,...  ...       2\n",
            "39  From: amanda@intercon.com (Amanda Walker)\\nSubject: Re: Secret algorithm [Re: Clipper Chip and crypto key-escrow]\\nOrganization: InterCon Systems Corporation - Herndon, VA  USA\\nLines: 34\\nDistribution: world\\nReply-To: amanda@intercon.com (Amanda Walker)\\nNNTP-Posting-Host: chaos.intercon.com\\nX-Newsreader: InterCon TCP/Connect II 1.1\\n\\ngtoal@gtoal.com (Graham Toal) writes:\\n> Oh, I see your point.  I think you're wrong.  But if you sit back and \\n> wait to find out if I'm right, it'll be too late.  Just listen *very* \\n> carefully for the first 'such and such will not be permitted on network \\n> XYZ' shoe to drop. \\n\\nI've been a very intent NREN spectator of the NREN for years.  As a \\ncommercial IP software vendor, it really is my professional opinion that the \\nNREN, at this point, is irrelevant to private sector networking.  If it had \\nbeen deployed five years ago, it would have been a major development.  Now,\\nhowever, it's just an upgrade to the NSFnet, and an attempt to ...  ...       2\n",
            "\n",
            "[5 rows x 8 columns]\n",
            "Cluster 3\n",
            "                                                                                                                                                                                                                                                                                                                                                                                                                                                                                                                                                                                                                                                                                                                                                                                                                                                                                                                                                                                                                                       text  ... cluster\n",
            "1                                                                                                                                                                                                                                                                                       From: aa429@freenet.carleton.ca (Terry Ford)\\nSubject: A flawed propulsion system: Space Shuttle\\nX-Added: Forwarded by Space Digest\\nOrganization: [via International Space University]\\nOriginal-Sender: isu@VACATION.VENARI.CS.CMU.EDU\\nDistribution: sci\\nLines: 13\\n\\n\\n\\nFor an essay, I am writing about the space shuttle and a need for a better\\npropulsion system.  Through research, I have found that it is rather clumsy \\n(i.e. all the checks/tests before launch), the safety hazards (\"sitting\\non a hydrogen bomb\"), etc..  If you have any beefs about the current\\nspace shuttle program Re: propulsion, please send me your ideas.\\n\\nThanks a lot.\\n\\n--\\nTerry Ford [aa429@freenet.carleton.ca]\\nNepean, Ontario, Canada.\\n  ...       3\n",
            "4   From: sysmgr@king.eng.umd.edu (Doug Mohney)\\nSubject: Re: *Doppelganger* (was Re: Vulcan? No, not Spock or Haphaestus)\\nArticle-I.D.: mojo.1qkn6rINNett\\nReply-To: sysmgr@king.eng.umd.edu\\nDistribution: world\\nOrganization: Computer Aided Design Lab, U. of Maryland College Park\\nLines: 17\\nNNTP-Posting-Host: queen.eng.umd.edu\\n\\nIn article <1993Apr15.170048.1@fnalf.fnal.gov>, higgins@fnalf.fnal.gov (Bill Higgins-- Beam Jockey) writes:\\n\\n>This was known as *Journey to the Far Side of the Sun* in the United\\n>States and as *Doppelganger* in the U.K... Later, they went\\n>on to do more live-action SF series: *UFO* and *Space: 1999*.\\n>\\n>The astronomy was lousy, but the lifting-body spacecraft, VTOL\\n>airliners, and mighty Portugese launch complex were *wonderful* to\\n>look at.\\n\\nThey recycled a lot of models and theme music for UFO.  Some of the\\nconcepts even showed up in SPACE: 1999. \\n\\n\\n\\n    Software engineering? That's like military intelligence, isn't it?\\n  -- >             ...  ...       3\n",
            "17  From: aws@iti.org (Allen W. Sherzer)\\nSubject: Re: Orbital RepairStation\\nOrganization: Evil Geniuses for a Better Tomorrow\\nLines: 20\\n\\nIn article <C5HCBo.Joy@zoo.toronto.edu> henry@zoo.toronto.edu (Henry Spencer) writes:\\n\\n>The biggest problem with this is that all orbits are not alike.  It can\\n>actually be more expensive to reach a satellite from another orbit than\\n>from the ground.  \\n\\nBut with cheaper fuel from space based sources it will be cheaper to \\nreach more orbits than from the ground.\\n\\nAlso remember, that the presence of a repair/supply facility adds value\\nto the space around it. If you can put your satellite in an orbit where it\\ncan be reached by a ready source of supply you can make it cheaper and gain\\nbenefit from economies of scale.\\n\\n  Allen\\n-- \\n+---------------------------------------------------------------------------+\\n| Lady Astor:   \"Sir, if you were my husband I would poison your coffee!\"   |\\n| W. Churchill: \"Madam, if you were my wife, I wou...  ...       3\n",
            "75  From: leech@cs.unc.edu (Jon Leech)\\nSubject: Space FAQ 10/15 - Planetary Probe History\\nSupersedes: <probe_730956556@cs.unc.edu>\\nOrganization: University of North Carolina, Chapel Hill\\nLines: 527\\nDistribution: world\\nExpires: 6 May 1993 19:59:36 GMT\\nNNTP-Posting-Host: mahler.cs.unc.edu\\nKeywords: Frequently Asked Questions\\n\\nArchive-name: space/probe\\nLast-modified: $Date: 93/04/01 14:39:19 $\\n\\nPLANETARY PROBES - HISTORICAL MISSIONS\\n\\n    This section was lightly adapted from an original posting by Larry Klaes\\n    (klaes@verga.enet.dec.com), mostly minor formatting changes. Matthew\\n    Wiener (weemba@libra.wistar.upenn.edu) contributed the section on\\n    Voyager, and the section on Sakigake was obtained from ISAS material\\n    posted by Yoshiro Yamada (yamada@yscvax.ysc.go.jp).\\n\\nUS PLANETARY MISSIONS\\n\\n\\n    MARINER (VENUS, MARS, & MERCURY FLYBYS AND ORBITERS)\\n\\n    MARINER 1, the first U.S. attempt to send a spacecraft to Venus, failed\\n    minutes after launch in 19...  ...       3\n",
            "92  From: baalke@kelvin.jpl.nasa.gov (Ron Baalke)\\nSubject: Successful Balloon Flight Measures Ozone Layer\\nOrganization: Jet Propulsion Laboratory\\nLines: 96\\nDistribution: world\\nNNTP-Posting-Host: kelvin.jpl.nasa.gov\\nKeywords: JPL\\nNews-Software: VAX/VMS VNEWS 1.41    \\n\\nForwarded from:\\nPUBLIC INFORMATION OFFICE\\nJET PROPULSION LABORATORY\\nCALIFORNIA INSTITUTE OF TECHNOLOGY\\nNATIONAL AERONAUTICS AND SPACE ADMINISTRATION\\nPASADENA, CALIF. 91109. (818) 354-5011\\n\\nContact:  Mary A. Hardin\\n\\nFOR IMMEDIATE RELEASE                              April 15, 1993\\n#1506\\n\\n     Scientists at NASA's Jet Propulsion Laboratory report the\\nsuccessful flight of a balloon carrying instruments designed to\\nmeasure and study chemicals in the Earth's ozone layer.\\n\\n     The April 3 flight from California's Barstow/Daggett Airport\\nreached an altitude of 37 kilometers (121,000 feet) and took\\nmeasurements as part of a program established to correlate data\\nwith the Upper Atmosphere Research Satell...  ...       3\n",
            "\n",
            "[5 rows x 8 columns]\n",
            "Cluster 4\n",
            "                                                                                                                                                                                                                                                                                                                                                                                                                                                                                                                                                                                                                                                                                                                                                                                                                                                                                                                                                                                                                                       text  ... cluster\n",
            "12  From: schultz@schultz.kgn.ibm.com (Karl Schultz)\\nSubject: Re: VESA standard VGA/SVGA programming???\\nReply-To: schultz@vnet.ibm.com\\nOrganization: IBM AWS Graphics Systems\\nKeywords: vga\\nLines: 45\\n\\n|> 1. How VESA standard works?  Any documentation for VESA standard?\\n\\n\\tThe VESA standard can be requested from VESA:\\n\\tVESA\\n\\t2150 North First Street, Suite 440\\n\\tSan Jose, CA 95131-2029\\n\\n\\tAsk for the VESA VBE and Super VGA Programming starndards.  VESA\\n\\talso defines local bus and other standards.\\n\\n\\tThe VESA standard only addresses ways in which an application\\n\\tcan find out info and capabilities of a specific super VGA\\n\\timplementation and to control the video mode selection\\n\\tand video memory access.\\n\\n\\tYou still have to set your own pixels.\\n\\n|> 2. At a higher resolution than 320x200x256 or 640x480x16 VGA mode,\\n|>    where the video memory A0000-AFFFF is no longer sufficient to hold\\n|>    all info, what is the trick to do fast image manipulation?  I\\n|>    he...  ...       4\n",
            "13                                                                                                                                                                                                                                                                                                                                              From: bing@zinc.cchem.berkeley.edu (Bing Ho)\\nSubject: Know anything about EISA-2?\\nOrganization: UC Berkeley\\nLines: 11\\nDistribution: world\\nNNTP-Posting-Host: zinc.cchem.berkeley.edu\\n\\nI read about the development of EISA-2 some time ago but dismissed it\\nin light of the intense interest in VESA and PCI.  However, I recently\\nwas disheartened to hear that ISA cannot address more than 16mb of RAM,\\na limit that too many of us will hit all too soon.\\n\\nI recall that EISA-2 will support 64-bit transfer among other enhancements.\\nIs there such a standard being developed?\\n\\n-- \\nBing Ho\\nbing@zinc.cchem.berkeley.edu   University of California at Berkeley   \\n  ...       4\n",
            "25                                                                               From: simsh@aix02.ecs.rpi.edu (Hillel Y. Sims)\\nSubject: what size vram simm is this?\\nNntp-Posting-Host: aix02.ecs.rpi.edu\\nLines: 20\\n\\nHi everyone. I recently posted about how I received a bad vram chip for my\\nnew LCIII, and someone responded that it may not actually be bad, but it may\\nbe a 512K LC vram chip, and thus doesn't work properly with my computer. So\\nI'm wondering if anyone can interpret these codes for me, so I can figure\\nout what type of chip MacConnection sent me.\\n\\nEach chip says: M518121A-80J\\n\\t\\t 2515251\\n\\nOn the back of the card, it says 0593\\n\\nI believe from the numbers that means it is an 80ns chip, but I can't figure\\nout what the size is supposed to be. If anyone can help, I'd be grateful.\\nPlease email me your response. Thanks a lot!\\n\\n-- \\nHillel Sims  -----  simsh@rpi.edu  -----  Rensselaer Polytechnic Institute\\n\\n\"Is rot13 rotated 13 forward or backward?\"\\n\\t--Anonymous\\n  ...       4\n",
            "32  From: pgeltner@netcon.smc.edu (Peter Geltner)\\nSubject: Re: Soundblaster IRQ and Port settings\\nOrganization: Santa Monica College, Santa Monica, CA\\nLines: 23\\n\\nIn article <1qjv95$1t1@bogus.sura.net> vargish@bogus.sura.net (Nicholas Vargish) writes:\\n>A SoundBlater (SB) card is _supposed_ to share IRQ 7 with LPT1\\n>(parallel printer interface 1), and in general this scheme works well.\\n>However, sometimes there are conflicts -- it seemed to depend on the\\n>software more than anything else. Origin games are especially bitchy\\n>about having the WHOLE interrupt to themselves... :^)\\n>\\n>My solution was to switch the interrupt to IRQ 5, which is unreserved\\n>in contemporary computers (using IRQ 5 for the drives went out with\\n>the XT architechture -- DON'T put the SB in IRQ 5 if you have an XT,\\n>get a new computer instead). This IRQ has been completely stable for\\n>me, and I use my SB to play .mods and .wavs under Linux (a free UN*X\\n>for 386 or better PC-architecture machines) with...  ...       4\n",
            "33  From: dcoleman@ccwf.cc.utexas.edu (Daniel M. Coleman)\\nSubject: Re: Diamond Stealth 24 giving 9.4 Winmarks?\\nOrganization: The University of Texas at Austin, Austin, Texas\\nLines: 25\\nNNTP-Posting-Host: flubber.cc.utexas.edu\\n\\nIn article <westesC5qvAp.BGJ@netcom.com> westes@netcom.com (Will Estes) writes:\\n>I have just installed a Diamond Stealth 24 ISA card in\\n>a '486DX2-66 system with 256K cache, and 16 megs of memory,\\n>that gets about a 126 SI 6.0 CPU Benchmark rating.  Using\\n>the 1024x768x16 color driver under Windows, I am getting a\\n>Winbench Winmarks rating of only about 9.5 Million.  Since\\n>I have heard that others get 15-to-16 million for this card,\\n>I assume that something is very wrong with my setup.\\n\\n>What are some possible causes of the card slowing down like this?\\n\\nMost importantly, which Winbench version are you using?  On my local bus ATI\\nGraphics Ultra Pro, I've gotten various Winbench scores from 15.8 million to\\n31 million winmarks, depending on the ve...  ...       4\n",
            "\n",
            "[5 rows x 8 columns]\n",
            "Cluster 5\n",
            "                                                                                                                                                                                                                                                                                                                                                                                                                                                                                                                                                                                                                                                                                                                                                                                                                                                                                                                                                                                                                                        text  ... cluster\n",
            "0    From: ai598@cleveland.Freenet.Edu (Mike Sturdevant)\\nSubject: Carrying crutches (was Re: Living\\nArticle-I.D.: usenet.1pqhkl$g48\\nReply-To: ai598@cleveland.Freenet.Edu (Mike Sturdevant)\\nOrganization: Case Western Reserve University, Cleveland, OH (USA)\\nLines: 18\\nNNTP-Posting-Host: slc10.ins.cwru.edu\\n\\n\\nIn a previous article, pooder@rchland.vnet.ibm.com (Don Fearn) says:\\n\\n>\\n>When I broke my right leg in two places (not a motorcycle accident -- a \\n>_car_ accident; who woulda thunk it?) I put my crutches on Gretchen's rear\\n>rack.  I'm getting the metal rod pulled out on Friday and going back on \\n>the crutches for six weeks.  I think crutches on the handlebars sound more \\n>aesthetically pleasing.  How did you attach them?\\n\\n\\n\\tWhen I got my knee rebuilt I got back on the street bike ASAP. I put\\nthe crutches on the rack and the passenger seat and they hung out back a\\nLONG way. Just make sure they're tied down tight in front and no problemo.\\n-- \\nGo fast. Take chances.\\n...  ...       5\n",
            "7                                                                                                                            From: johnsw@wsuvm1.csc.wsu.edu (William E. Johns)\\nSubject: Need a wheel\\nOriginator: bill@wsuaix.csc.wsu.edu\\nKeywords: '92\\nOrganization: Washington State University\\nDistribution: na\\nLines: 18\\n\\n\\nDoes anyone have a rear wheel for a PD they'd like to part with?\\n\\nDoes anyone know where I might find one salvage?\\n\\nAs long as I'm getting the GIVI luggage for Brunnhilde and have\\nthe room, I thought I'd carry a spare.\\n\\nRide Free,\\n\\nBill\\n___________________________________________________________________             \\njohnsw@wsuvm1.csc.wsu.edu  prez=BIMC  KotV KotRR                                \\nDoD #00314  AMA #580924   SPI = 7.18   WMTC #0002  KotD #0001             \\nYamabeemer fj100gs1200pdr650 Special and a Volvo.  What more could anyone ask? \\n                                                           \\nPain is inevitable, suffering is optional.\\n \\n  ...       5\n",
            "89   From: ryan_cousineau@compdyn.questor.org (Ryan Cousineau) \\nSubject: Re: Motorcycle Courier (S\\nReply-To: ryan_cousineau@compdyn.questor.org (Ryan Cousineau) \\nDistribution: world\\nOrganization: Computer Dynamics-Vancouver B.C.-(604)986-9937 (604)255-9937\\nLines: 19\\n\\nJL-NS>Subject: Re: Motorcycle Courier (Summer Job)\\n\\nI'd like to thank everyone who replied. I will probably start looking in\\nearnest after May, when I return from my trip down the Pacific Coast\\n(the geographical feature, not the bike).\\n\\nRyan Cousinetc.|1982 Yamaha Vision XZ550 -Black Pig of Inverness|Live to Ride\\nKotRB          |1958 AJS 500 C/S -King Rat                      |to Work to\\nDoD# 0863      |I'd be a squid if I could afford the bike...    |Flame to\\nryan.cousineau@compdyn.questor.org  |   Vancouver, BC, Canada   |Live . . .\\n\\n\\n * SLMR 2.1a * Have bike, will travel. Quickly. Very quickly.\\n                                   \\n----\\n+===============================================================+...  ...       5\n",
            "145  From: blgardne@javelin.sim.es.com (Dances With Bikers)\\nSubject: FAQ - What is the DoD?\\nSummary: Everything you always wanted to know about DoD, but were afraid to ask\\nKeywords: DoD FAQ\\nArticle-I.D.: javelin.DoD.monthly_733561501\\nExpires: Sun, 30 May 1993 07:05:01 GMT\\nReply-To: blgardne@javelin.sim.es.com\\nOrganization: Evans & Sutherland Computer Corporation\\nLines: 849\\nSupersedes: <DoD.monthly_730969501@javelin.sim.es.com>\\n\\nThis is a periodic posting intended to answer the Frequently Asked\\nQuestion: What is the DoD? It is posted the first of each month, with\\nan expiration time of over a month. Thus, unless your site's news\\nsoftware is ill-mannered, this posting should always be available.\\nThis WitDoDFAQ is crossposted to all four rec.motorcycles groups in an\\nattempt to catch most new users, and followups are directed to\\nrec.motorcycles.\\n\\nLast changed 9-Feb-93 to add a message from the KotL, and a bit of\\nHalon.\\n\\n\\t\\t\\tVERSION 1.1\\n\\nThis collection was originall...  ...       5\n",
            "176  From: laszlo@eclipse.cs.colorado.edu (Laszlo Nemeth)\\nSubject: Re: BMW MOA members read this!\\nNntp-Posting-Host: eclipse.cs.colorado.edu\\nOrganization: University of Colorado Boulder, Pizza Disposal Group\\nLines: 27\\n\\nIn article <1993Apr19.193331.11327@sarvax.cmhnet.org>, frog@sarvax.cmhnet.org (Jeff 'Frog' Campbell) writes:\\n|> From article <C5px3n.Kw0@murdoch.acc.Virginia.EDU>, by cdw2t@dayhoff.med.Virginia.EDU (Dances With Federal Rangers):\\n|> > \\n|> > ObMotoWashing: Is it just me, or does everyone cut their finger(s) on the\\n|> > Evil Cotterpin (tm), lurking somewhere in the dark recesses of the back end\\n|> > of the bike, when giving the prized moto a bath?  I seem to slice the pinkie\\n|> > of one hand or the other *every* time (*both* of them this time!).\\n|> \\n|> It's you. Beemers have no EC (tm).\\n\\nOH yes they do! but considering i never wash my BMW (unless i need\\nto work on it) i never get cuts untill the tools come out.....\\naltho the best scar (now faded) was from t...  ...       5\n",
            "\n",
            "[5 rows x 8 columns]\n",
            "Cluster 6\n",
            "                                                                                                                                                                                                                                                                                                                                                                                                                                                                                                                                                                                                                                                                                                                                                                                                                                                                                                                                                                                                                                       text  ... cluster\n",
            "9                                                                                                                                                                                                                                                                                                         Subject: Re: JETS FANS!  Hrivnak or Tabaracci??\\nFrom: gtd597a@prism.gatech.EDU (Hrivnak)\\nOrganization: Georgia Institute of Technology\\nLines: 14\\n\\nIn article <1993Apr6.172313.29469@wam.umd.edu> giant@next14pg2.wam.umd.edu (Thundarr) writes:\\n>After seeing Hrivnak and Tabarraci play, who\\n>would you prefer to have?  And how about\\n>Tyler Larter?  What ever happened to him??\\n\\n\\tYou know what my answer will be: Hrivnak! The choice is obvious.\\n\\n\\n\\n-- \\nGO SKINS!    ||\"Now for the next question... Does emotional music have quite\\nGO BRAVES!   ||   an effect on you?\" - Mike Patton, Faith No More \\nGO HORNETS!  ||\\nGO CAPITALS! ||Mike Friedman (Hrivnak fan!) Internet: gtd597a@prism.gatech.edu\\n  ...       6\n",
            "22  From: tva1@gmuvax.gmu.edu\\nSubject: Re: David Polie's future\\nOrganization: George Mason University, Fairfax, VA.\\nLines: 33\\n\\nIn article <1993Apr14.010305.1737@ncsu.edu>, fmsalvat@eos.ncsu.edu\\n(FRANK MICHAE SALVATORE) writes:\\n> \\n>> Bad news for the Patrick division next year.  Caps GM David Polie is\\n>> reportedly trying to get a front office job with the NHL.  I can't\\n>> believe Polie has not been fired despite 10 years of mediocrity.\\n>> \\n\\n\\tYou know what Frank? It's not David Poile's fault that the Caps\\nhave mired in mediocrity for so long. Blame it on the owner, Abe Polin!\\nThis guy owns both the NBA's Bullets and the NHL's Capitals. How dumb\\nand selfish could this guy be? He's unwilling to spend the bucks in \\norder to get a big star to Landover...no wonder both teams STINK!\\n\\n\\tI've heard that the Capitals had a chance to get Detroit's\\nSteve Yzerman last summer but they pulled out at the last minute. Why?\\nBecause our good man, Abe, is afraid to spend the cash!\\n\\...  ...       6\n",
            "23                                                                                     From: \"Justin R. Fortun\" <jf4f+@andrew.cmu.edu>\\nSubject: Re: Playoff Predictions\\nOrganization: Freshman, IM - MCS/CIT Track, Carnegie Mellon, Pittsburgh, PA\\nLines: 26\\nNNTP-Posting-Host: po4.andrew.cmu.edu\\nIn-Reply-To: <1993Apr04.223559.7129@rose.com>\\n\\n>B(--> Stanley Cup Champion: Vancouver Canucks\\n> \\n>Sorry, Pittsburgh in a walk.\\n> \\n>- Jack\\n\\nFirst of all, the Penguins WILL win the cup again.  Who is going to stop them?\\nDefinitely not the Canucks! \\n\\nMy predictions:\\n\\nPatrick Division winner:  Pittsburgh\\nAdams Division winner:  Quebec or Montreal\\nNorris Division winner:  Detroit\\nSmythe Division winner:  Winnipeg\\n\\nWales conference champ:  Pittsburgh\\nCampbell Conference champ:  Detroit\\n\\nStanley Cup Champions(again):  Pittsburgh\\n\\nCanucks suck.  They'll lose in the first round, compliments of Winnipeg\\nand Teemu Selanne.  \\n\\nThe Pens are almost unstoppable with Mario Lemieux.  \\n\\n  ...       6\n",
            "24  Subject: canadian silver dollar-stanley cup centennial\\nFrom: hammerl@acsu.buffalo.edu (Valerie S. Hammerl)\\nOrganization: UB\\nNntp-Posting-Host: lictor.acsu.buffalo.edu\\nLines: 19\\n\\n\\nHi.  According to my always questionable newspaper, there's a silver\\ndollar being minted in Canada, the back of which commemorates the\\nanniversary of the Stanley Cup.  Now, I know full well what coins are\\nused every day in Canada.  I can easily fish a few out of my pocket\\nchange right now, in fact.  My question is, since the loon is the only\\ndollar coin that I know is legal tender, is this just a commemorative\\ncoin with no monetary exchange value, or what?  Is it the sort of\\nthing that only hockey buffs and coin collectors might covet, with no\\nchance of it being circulated?  If it is an uncirculated coin, what's\\nthe current cost and what's its potential value?  Just curious.  If no\\none knows, I'll take this to soc.culture.canada and rec.collecting (or\\nwhatever it is).  Thanks again\\n\\n-- ...  ...       6\n",
            "61    From: chuck@mks.com (Chuck Lownie)\\nSubject: Re: Tie Breaker....(Isles and Devils)\\nOrganization: Mortice Kern Systems Inc., Waterloo, Ontario, CANADA\\nLines: 27\\n\\nIn article <lrw509f@rpi.edu> wangr@rpi.edu writes:\\n>\\tAre people here stupid or what??? It is a tie breaker, of cause they\\n>have to have the same record. How can people be sooooo stuppid to put win as\\n>first in the list for tie breaker??? If it is a tie breaker, how can there be\\n>different record???? Man, I thought people in this net are good with hockey.\\n>I might not be great in Math, but tell me how can two teams ahve the same points\\n>with different record??? Man...retard!!!!!! Can't believe people actually put\\n>win as first in a tie breaker......\\n>\\n>\\n\\n\\nI didn't see any smilies in this message so.......\\n\\n                W     T    L    PTs\\n   Team A      50    30    4    104\\n   Team B      52    32    0    104\\n\\n\\nThere you go.  Two teams that tie in points without identical records.\\n\\n\\n-- \\n\\n\\n\\n\\n  ...       6\n",
            "\n",
            "[5 rows x 8 columns]\n",
            "Cluster 7\n",
            "                                                                                                                                                                                                                                                                                                                                                                                                                                                                                                                                                                                                                                                                                                                                                                                                                                                                                                                                                                                                                                       text  ... cluster\n",
            "2                             From: gsnow@clark.edu (Gary Snow)\\nSubject: Re: WARNING! Don't break Powerbook screen\\nArticle-I.D.: clark.1993Apr6.210853.26502\\nOrganization: Clark College, Vancouver, Wa.  USA\\nLines: 20\\n\\nIn article <D2150035.ub9c68@outpost.SF-Bay.org> peirce@outpost.SF-Bay.org (Michael Peirce) writes:\\n>\\n>Surprised? Shouldn't be.  Protective tarriffs almost always end up\\n>hurting the U.S. in the long run.  Same with subsidies.  they way\\n>to build a strong economy isn't to wall it off from the tough outside\\n>world, but rather to compete in the global market place (and don't\\n>come crying when the world doesn't always want to play by our house\\n>rules).\\n\\nTell that to the Japanese, their local market is neatly protected by\\nthe Japanese government. Its one very tough nut to crack. In fact\\nthe only current way to break into it, is to do it with a Japanese\\ncompany as a partner in the venture.\\n \\nGary\\n\\n-- \\n-----\\nGary Snow\\nuunet!clark!gsnow  or  gsnow@clark.edu\\n  ...       7\n",
            "3                                                                    From: walkup@cs.washington.edu (Elizabeth Walkup)\\nSubject: Re: Menangitis question\\nOrganization: Computer Science & Engineering, U. of Washington, Seattle\\nDistribution: na\\nLines: 19\\n\\nIn article <19439@pitt.UUCP> geb@cs.pitt.edu (Gordon Banks) writes:\\n>... the neiseria meningococcus is one of the most common\\n>forms of meningitis.  It's the one that sometimes sweeps\\n>schools or boot camp.  It is contagious and kills by attacking\\n>the covering of the brain, causing the blood vessels to thrombose\\n>and the brain to swell up.\\n>\\n>\\t...\\n>\\n>It can live in the throat of carriers.  Don't worry, you won't get \\n>it from them, especially if they took the medication.\\n\\nAssuming one has been cultured as having a throat laden with\\nneiseria meningococcus and given (and taken) a course of ERYC \\nwithout the culture becoming negative, should one worry about\\nbeing a carrier?  \\n\\n-- Elizabeth\\n   walkup@cs.washington.edu\\n  ...       7\n",
            "8   From: dyer@spdcc.com (Steve Dyer)\\nSubject: Re: Thrush ((was: Good Grief! (was Re: Candida Albicans: what is it?)))\\nOrganization: S.P. Dyer Computer Consulting, Cambridge MA\\nLines: 34\\n\\nIn article <21APR199308571323@ucsvax.sdsu.edu> mccurdy@ucsvax.sdsu.edu (McCurdy M.) writes:\\n>Dyer is beyond rude. \\n\\nYeah, yeah, yeah.  I didn't threaten to rip your lips off, did I?\\nSnort.\\n\\n>There have been and always will be people who are blinded by their own \\n>knowledge and unopen to anything that isn't already established. Given what \\n>the medical community doesn't know, I'm surprised that he has this outlook.\\n\\nDuh.\\n\\n>For the record, I have had several outbreaks of thrush during the several \\n>past few years, with no indication of immunosuppression or nutritional \\n>deficiencies. I had not taken any antobiotics. \\n\\nListen: thrush is a recognized clinical syndrome with definite\\ncharacteristics.  If you have thrush, you have thrush, because you can\\nsee the lesions and do a cultur...  ...       7\n",
            "21  From: palmer@cco.caltech.edu (David M. Palmer)\\nSubject: Re: Gamma Ray Bursters. WHere are they.\\nOrganization: California Institute of Technology, Pasadena\\nLines: 53\\nNNTP-Posting-Host: alumni.caltech.edu\\n\\nprb@access.digex.com (Pat) writes:\\n\\n>  What  evidence  indicates that Gamma Ray bursters are very far away?\\n\\n>Given the enormous  power,  i was just wondering,  what if they are\\n>quantum  black holes or something  like that  fairly close by?\\n\\n>Why would they have to be at  galactic ranges?   \\n\\nGamma Ray Bursts (GRBs) are seen coming equally from all directions.\\nHowever, given the number of bright ones, there are too few faint\\nones to be consistent with being equally dense for as far\\nas we can see--it is as if they are all contained within\\na finite sphere (or a sphere with fuzzy edges) with us at the\\ncenter.  (These measurements are statistical, and you can\\nalways hide a sufficiently small number of a different\\ntype of GRB with a different origin in the data.  ...  ...       7\n",
            "26  From: bauer@informatik.uni-ulm.de (Christian Bauer)\\nSubject: Re: MacPlus freezes after ~1 hour use, fails to boot\\nNntp-Posting-Host: christian.informatik.uni-ulm.de\\nOrganization: University of Ulm\\nLines: 27\\n\\nIn article <1osu69INN11r@tamsun.tamu.edu>, mclean@math.tamu.edu (Robert\\nMclean) wrote:\\n> \\n> My MacPlus is having problems which seem temperature related. After using\\n> it for a while it freezes. The when I turn off then on, the screen doesn't\\n> show the disk icon, and then goes dark. I consulted Larry Pina's Book and \\n> could not find these symptoms. Has anybody else seen such symptoms?\\n> Suggestions?\\n\\nShure it is temperature dependent, but this does not clean all your\\nproblems.\\nBased on some exp. I must say that the connections between the power supply\\nand the Monitor and Main Board are usable to this failure, Ram simms can be\\nbadly connected due to some corrosion and the powersupply can be in the\\nlast\\nphase (lower Voltage).\\n\\nSo you can do following if y...  ...       7\n",
            "\n",
            "[5 rows x 8 columns]\n",
            "Cluster 8\n",
            "                                                                                                                                                                                                                                                                                                                                                                                                                                                                                                                                                                                                                                                                                                                                                                                                                                                                                                                                                                                                                                       text  ... cluster\n",
            "11                                                                                                                                                                                                                                                      From: arthur@hardy.u.washington.edu (howard roark)\\nSubject: PROBLEM WITH PRINTER AND EMM386.EXE!!\\nArticle-I.D.: shelley.1qtbh0INN7nh\\nDistribution: world\\nOrganization: University of Washington, Seattle\\nLines: 8\\nNNTP-Posting-Host: hardy.u.washington.edu\\n\\nI recently decided to try using emm386.exe for a memory manager and when I\\ntried to print to my printer in lpt1 from word55 I wouldn't work.  It would\\nsend the linefeeds for the top margin and then the printer READY light would\\ngo off and stop working.  I disabled emm386.exe and the problem went away.\\nI would like to continue using emm386.exe if possible.  I would greatly    \\nappreciate any comments or suggestions!!  please send them to arthur@u.washingt,\\n\\narthur@u.washington.edu \\n  ...       8\n",
            "14  From: theroo@med.unc.edu (Bron D. Skinner Ph.D.)\\nSubject: Re: Why is my mouse so JUMPY? (MS MOUSE)\\nNntp-Posting-Host: pelham.med.unc.edu\\nOrganization: UNC-CH School of Medicine\\nLines: 33\\n\\nIn article <1993Apr23.140123.5018@cti.com> rlister@cti.com (Russell Lister) writes:\\n>ecktons@ucs.byu.edu (Sean Eckton) writes:\\n>\\n>>I have a Microsoft Serial Mouse and am using mouse.com 8.00 (was using 8.20 \\n>>I think, but switched to 8.00 to see if it was any better).  Vertical motion \\n>>is nice and smooth, but horizontal motion is so bad I sometimes can't click \\n>>on something because my mouse jumps around.  I can be moving the mouse to \\n>>the right with relatively uniform motion and the mouse will move smoothly \\n>>for a bit, then jump to the right, then move smoothly for a bit then jump \\n>>again (maybe this time to the left about .5 inch!).  This is crazy!  I have \\n>>never had so much trouble with a mouse before.  Anyone have any solutions?  \\n>\\n>>Does Microsoft think they are ...  ...       8\n",
            "18                                                                                                                                                                                                                                              From: glb6j@smarine.UUCP (Guy Babineau)\\nSubject: How do you find a window id given its name\\nKeywords: xlib xwininfo\\nReply-To: virginia.edu!smarine.uucp!glb6j\\nOrganization: Sperry Marine, Inc.\\nLines: 15\\n\\n\\nI want to do the equivalent of an \"xwininfo -name\" via a call or set of calls\\nin Xlib.  I need to map a windows name to its id.\\nIt's probably easy, but I've only been programming in X for a little while.\\nI've looked in the O'reilly books and didn't find it and I also checked the\\nFAQ and couldn't find it.\\n\\nEmail to one of the following addresses and I'll post a response if it\\nseems reasonable to do so.\\n\\n\\nGuy\\n-- \\nGuy L. Babineau                         virginia.edu!smarine.uucp!glb6j\\nSperry Marine Inc.\\t\\t\\t72147.2474@compuserve.com\\n  ...       8\n",
            "34  From: dyoung@media.mit.edu (David Young)\\nSubject: Drawing Lines (inverse/xor)\\nOrganization: MIT Media Laboratory\\nLines: 40\\n\\nI'm trying to write some code that lets me draw lines and do rubber-band\\nboxes in Motif/X.  I'm running on an 8-bit display for which I've created a\\ncolormap and am using almost all of the colors.  I want to draw the lines\\nin a drawing area widget -- a widget in which I'm displaying a bitmap using\\nXPutImage().  If doesn't matter if the lines I draw interactively stay\\naround when the window is refreshed.\\n\\nCurrently, to draw interactively, I begin with:\\n\\n   /* drawIndex is an colortable index I reserve for the Foreground */\\n   /* my_default_bg_color is the color index for the background of my image */\\n   palette_colors[drawIndex].red =   palette_colors[my_default_bg_color].red;\\n   palette_colors[drawIndex].green = palette_colors[my_default_bg_color].green;\\n   palette_colors[drawIndex].blue =  palette_colors[my_default_bg_color].blue;\\n   XStore...  ...       8\n",
            "82  From: nicholas@ibmpcug.co.uk (Nicholas Young)\\nSubject: Writing a Motif widget\\nX-Disclaimer: The views expressed in this article are those of the author\\n\\talone and may not represent the views of the IBM PC User Group.\\nOrganization: The IBM PC User Group, UK.\\nLines: 22\\n\\nCan anyone give me some information, please ...\\n\\nI need (probably) to write one or more new Motif widgets on the HP-UX\\nplatform. Do I need the Motif private header files and source,\\nor can I make do with the public headers that are provided?\\n\"Motif\" includes Xt in this context.\\n\\nOne widget is a multi-column list (which lots of people have\\nalready written, I am sure), and would therefore be probably be\\na subclass of List rather than something simple like an Xt class.\\nIs this more difficult (in principle, not lines of code)?\\n\\nAlternatively, if anyone has a multi-column list widget they\\ncould sell me, this might save me from having to write one!\\nDoes it by any chance exist in Motif 1.2 already (I do...  ...       8\n",
            "\n",
            "[5 rows x 8 columns]\n",
            "Cluster 9\n",
            "                                                                                                                                                                                                                                                                                                                                                                                                                                                                                                                                                                                                                                                                                                                                                                                                                                                                                                                                                                                                                                        text  ... cluster\n",
            "35   From: finn@convex.com (Tom Finn)\\nSubject: Re: multiple desktops\\nNntp-Posting-Host: eugene.convex.com\\nOrganization: CONVEX Computer Corporation, Richardson, Tx., USA\\nX-Disclaimer: This message was written by a user at CONVEX Computer\\n              Corp. The opinions expressed are those of the user and\\n              not necessarily those of CONVEX.\\nLines: 22\\n\\nIn article <C56BHt.7qF@news.Hawaii.Edu> dmcgee@uluhe.soest.hawaii.edu (Don McGee) writes:\\n>\\n>Is there a free/share( ware) package that will allow multiple\\n>desktops in windows 3.1.  What is desired is to have a desk top\\n>for several people that each can personalize by name and choice\\n>of programs etc. \\n\\n\\nThere's a package called Workspace on cica that has 5 desktops; I\\nhaven't done much with it yet, but it seems to be able to do what you\\nwant it to.\\n\\nDon't have the exact archive name handy, but it's something like\\nwspace<blah>.zip.\\n\\nTom\\n\\n-- \\n finn@convex.com           \\t\\t\\t      I speak only for mysel...  ...       9\n",
            "114  From: duncans@hotlips.Princeton.EDU (Duncan Smith)\\nSubject: Question about LocalTalk/AppleShare on MS-DOS system\\nSummary: How do I make AppleShare PC run properly under Windows or OS/2?\\nOriginator: news@nimaster\\nKeywords: Windows, OS/2, AppleShare PC, LocalTalk\\nNntp-Posting-Host: hotlips.princeton.edu\\nOrganization: Princeton University\\nLines: 13\\n\\nIs anyone out there running a MS-DOS system with a LocalTalk board? I am on an\\nAppletalk network, hooked up with a DayStar Digital LT200 MC LocalTalk\\nInterface Board, running on a PS/2 Model 70. I'm using the AppleShare PC\\nsoftware for file server and network access. It works fine under DOS or the\\nWindow or OS/2 DOS box. But when I try to load it *before* Windows, so that\\nevery application I run could get access to it, the machine crashes hard as\\nsoon as I start up an application. And of course, things look pretty hopeless\\nfor OS/2 (but who knows). \\n\\nSo, does anyone have experience with this bizarre and obsolete setup?\\n\\...  ...       9\n",
            "119                                                                                                                                                                                                                            From: srowe@fulcrum.co.uk (Simon Rowe)\\nSubject: Re: exit codes (dos--sorry for wrong group : (\\nOrganization: Fulcrum Communications\\nLines: 13\\n\\nInternal DOS commands (certainly 3.3 and before) do not set the exit\\ncode. This is a royal pain if you want to do anything which checks for\\nsuccessful deletions etc. The best suggestion is to use 4dos which\\ndoes return you exit codes. It also has move command,\\n\\n\\tSimon.\\n\\n-------------------------------------------------------------------------------\\nSimon Rowe,                                   srowe@fulcrum.co.uk\\nFulcrum Communications Ltd,\\nBirmingham,\\t\\t\\t         Condition \"BRAIN_OVERLOAD$\" raised at\\nENGLAND.\\t\\t\\t\\t 5412(0)/12234\\n------------------------------------------------------------------------------\\n  ...       9\n",
            "121                                                                                                                   From: john@goshawk.mcc.ac.uk (John Heaton)\\nSubject: POV reboots PC after memory upgrade\\nReply-To: john@nessie.mcc.ac.uk\\nOrganization: MCC Network Unit\\nLines: 13\\n\\nUp until last week, I have been running POVray v1.0 on my 486/33 under DOS5\\nwithout any major problems.  Over Easter I increased the memory from 4Meg to\\n8Meg, and found that POVray reboots the system every time under DOS5.  I had\\na go at running POVray in a DOS window when running Win3.1 on the same system\\nand it now works fine, even if a lot slower.  I would like to go back to \\nusing POVray directly under DOS, anyone any ideas???\\n\\nJohn\\n-- \\n                 John Heaton   -   NRS Central Administrator\\n      MCC Network Unit, The University, Oxford Road, Manchester,  M13-9PL\\n            Phone: (+44) 61 275 6011   -   FAX: (+44) 61 275 6040\\n                   Packet: G1YYH @ G1YYH.GB7PWY.#16.GBR.EU\\n  ...       9\n",
            "151  From: sdoran@matt.ksu.ksu.edu (Steven D Marcotte)\\nSubject: Data corruption\\nOrganization: Kansas State University\\nLines: 31\\nNNTP-Posting-Host: matt.ksu.ksu.edu\\n\\n\\nI quit windows normally to run a special DOS app, got done with it\\nand tried to start windows.  Ok got the title screen, Windows\\nbackground, DOS with an error about loading PROGMAN.EXE.  Hum, yep\\nPROGMAN.EXE is still there.  Must be bad, ok pull off PROGMAN.EXE\\nfrom a backup tape, start windows, get the windows title screen,\\nwindows background, DOS with the same error.  HUM!  Fire up the\\ngood ol' Norton Disk Doctor, test, 500 lost clusters!  Ok, fix them,\\nand look through them, doesn't look important.  Remove the Windows\\ndirectory, and reinstall from disks.  Fire up windows, title screen,\\nbackground, Program Manager, Success!  \\n\\nI have a 486/50 (Amy) with 4 meg of RAM, 120 meg HD, SVGA, running under\\nDOS 5.0, no special memory managers or stuff, just the basic Windows 3.1\\nA 12 meg permanent swap file usi...  ...       9\n",
            "\n",
            "[5 rows x 8 columns]\n",
            "Cluster 10\n",
            "                                                                                                                                                                                                                                                                                                                                                                                                                                                                                                                                                                                                                                                                                                                                                                                                                                                                                                                                                                                                                                       text  ... cluster\n",
            "5                                                                      From: mwgordon@nyx.cs.du.edu (Mike Gordon)\\nSubject: Otronics Attache luggable info needed\\nOrganization: Nyx, Public Access Unix @ U. of Denver Math/CS dept.\\nLines: 19\\n\\n\\nHi all,\\n \\n    I'm looking for some info regarding an old pcmade by Otronics (or\\nmaybe Oltronics) called the Attache.  This little beauty is an 8088\\n/ Z80 luggable with a 4 or 5 inch screen (monochrome CGA) and 2 360\\nfloppies.  \\n    For serial ports it has 2 DB-15 connectors (one is labled 'printer')\\nand I can't figure out the pinouts for them.  I also don't know if they \\nare standard com ports addressable as COM1 and COM2.  I have figured out \\nthat they'll only work with DOS 2.something.  \\n    \\n    If anyone can give me some pointers on this one, I'd be most \\nappreciative.  Please reply via email, as I can't keep up with news \\nlately.  (Finals are coming up you know :( )\\n\\nThanks much,\\nMike Gordon   N9LOI  mwgordon@nyx.cs.du.edu\\n\\n  ...      10\n",
            "6                                                                                                                                                                                             From: blast@nntp.crl.com (Tim Keanini)\\nSubject: Mac SCSI spec?\\nLines: 20\\nNNTP-Posting-Host: crl.com\\n\\nI have a MacIIFX and I know that it is wired about its SCSI chain.\\n\\nI just bought a drive and I need to find out a few hardcore SCSI question:\\n\\nDoes the IIFX SCSI chain want to see active or passive termination?\\n\\nDoes the IIFX SCSI spec want me to enable the initiation of the SDTR message?\\n\\nWHat does the IIFX SCSI spec want as far as parity checking?\\n\\nThese are some very good questions for the FAQ.       \\nIf someone does not have time to answer these questions but does know \\nwhere I can look them up please let me know and I will repost the answers\\nfor everyone to see.\\n\\nthanks,\\n\\nTim Keanini        <timk@broder.com>  or  <blast@crl.com>\\nSound Engineer         Broderbund Software\\n\\n  ...      10\n",
            "29                                                                                                                                                                                                                                                                                                                           From: root@ncube.com (Operator)\\nSubject: Accelaratores?\\nNntp-Posting-Host: admin\\nReply-To: root@ncube.com\\nOrganization: nCUBE Corp., Foster City, CA\\nLines: 27\\n\\nDo the accelaratores make a lot of difference?\\nAs I understand, there is graphics and cpu accelaration.\\n\\nDoes graphics accelarator help out with the scanner and\\nthe photo shop?\\n\\nIs combination of both practical?\\n\\nI have a Mac IIci. What kinds of accelaratores can I use?\\n\\n\\n\\n---\\n\\n\\n\\n                     ^~\\n                     @ *  *\\n  Captain Zod...    _|/_ /\\n  zod@ncube.com    |-|-|/\\n                  0 /| 0\\n                   / |\\n           \\=======&==\\===\\n           \\===========&===\\n\\n\\n\\n  ...      10\n",
            "45  From: sigma@rahul.net (Kevin Martin)\\nSubject: Re: CView answers\\nKeywords: Stupid Programming\\nNntp-Posting-Host: bolero\\nOrganization: a2i network\\nLines: 26\\n\\nIn <C5LEvt.1nJ@rahul.net> bryanw@rahul.net (Bryan Woodworth) writes:\\n>In <1qlobb$p5a@tuegate.tue.nl> renew@blade.stack.urc.tue.nl (Rene Walter) writes:\\n>[Most info regarding dangers of reading from Floppy disks omitted]\\n>>unrevcoverable way.  SO BE CAREFUL!  It is incredibly poor programming for a\\n>>program to do this...\\n>Nevertheless, it is an important bug that needs to be squashed.  I am\\n>merely pointing out that it was probably overlooked.  While it is serious,\\n>one must keep in mind that it will probably affect at most 5% of the\\n>targeted users of CView.\\n\\nOK, I don't use CView anymore, but I saw that no one had explaind this\\n\"bug\" in the thread, so here goes:\\n\\nIt is NOT the fault of CView.  It is DOS!  If you leave a file open on a\\nfloppy drive, then change the disk and do something which updates or clo...  ...      10\n",
            "47                                                                                                                                                             From: apd2c@Virginia.EDU (\"Andrew Paul Dickens\")\\nSubject: Re: computer graphics to vcr?\\nOrganization: University of Virginia\\nLines: 16\\n\\n\\n\\tGetting an image from a computer monitor to a videotape\\nis harder than it looks.  The standard VGA and EGA outputs are \\nvery different than the NTSC format used by televisions.  While\\nthere is equipment that will do the conversion, it is hard to\\nget your hands on and costs quite a bit.\\n\\n\\tIf you have access to an Amiga computer, that has an\\nNTSC output, you can transfer certain types of graphic files by\\nmodem and tape them from the NTSC output.  Unfortunately, this\\nwould be frame-by-frame and would lead to unbelievably scratchy\\nanimation unless you had a good Amiga animation program.\\n\\n\\tOtherwise, see if your local public access cable\\nstation has equipment that you can use.\\n\\n  ...      10\n",
            "\n",
            "[5 rows x 8 columns]\n",
            "Cluster 11\n",
            "                                                                                                                                                                                                                                                                                                                                                                                                                                                                                                                                                                                                                                                                                                                                                                                                                                                                                                                                                                                                                                        text  ... cluster\n",
            "57                                                                                                                                                                                                                                                                                                                                                                                                                                                                                                                                                                                                                                                                                                                                             From: luriem@alleg.edu(Michael Lurie) The Liberalizer\\nSubject: I think I am going to cry again Yankees lose it again\\nOrganization: Allegheny College\\n\\nI can't believe this, Howe has an ERA in the 80's He is improving!!!\\n\\n\\n\\nKey pitches a GREAT game, and they screw it up AGAIN.\\n  ...      11\n",
            "60   From: iacs3650@Oswego.EDU (Kevin Mundstock)\\nSubject: My Predictions For 1993\\nReply-To: iacs3650@oswego.Oswego.EDU (Kevin Mundstock)\\nOrganization: Instructional Computing Center, SUNY at Oswego, Oswego, NY\\nLines: 62\\n\\nSince everyone else seems to be running wild with predictions, I've\\ndecided to add my own fuel to the fire:\\nThey might seem a bit normal, but there are a few (albeit, small) surprises.\\n\\nAmerican League East\\t W\\t L\\tGB\\n1)New York Yankees\\t93\\t69\\t--\\n2)Baltimore Orioles\\t90\\t72\\t 3\\n3)Toronto Blue Jays\\t86\\t76\\t 7\\n4)Cleveland Indians     84      78       9\\n5)Boston Red Sox\\t77\\t85\\t16\\n6)Milwaukee Brewers\\t74\\t88\\t19\\n7)Detroit Tigers\\t73\\t89\\t20\\n\\nAmerican League West\\t W\\t L\\tGB\\n1)Minnesota Twins\\t94\\t68\\t--\\n2)Kansas City Royals\\t92\\t70\\t 2\\n3)Texas Rangers     \\t85\\t77\\t 9\\n4)Chicago White Sox\\t77\\t85\\t17\\n5)Oakland Athletics\\t74\\t88\\t20\\n6)Seattle Mariners\\t70\\t92\\t24\\n7)California Angels\\t65\\t97\\t29\\n\\nAL MVP-Kirby Puckett\\nAL Cy Young-Kevin Appier\\...  ...      11\n",
            "104                                                                                                                                                                                                                                                                                                                                                                                                                                                                                                 From: boell@hpcc01.corp.hp.com (Donald P Boell)\\nSubject: Re: Rockies spoon-feed game to Mets\\nOrganization: the HP Corporate notes server\\nLines: 8\\n\\nIs it just me, or does Bichette look totally lost in the outfield?  He \\nmisplayed Martinez fly-out into a double against the Expos, misplayed\\nAlou's single into a triple (Alou tagged out at 3rd after over-sliding \\nthe bag) and now he misplays another out into a 3 run triple...add in his\\nwonderful batting average and we have one heck of a player!\\n\\nDon Boell\\n\\n  ...      11\n",
            "135  From: niepornt@phoenix.Princeton.EDU (David Marc Nieporent)\\nSubject: Re: Jim Lefebvre is an idiot.\\nArticle-I.D.: Princeto.1993Apr6.084432.3805\\nOrganization: Princeton University\\nLines: 21\\nOriginator: news@nimaster\\nNntp-Posting-Host: phoenix.princeton.edu\\n\\nIn <C51uC6.BL1@news.cso.uiuc.edu> ada41546@uxa.cso.uiuc.edu (Driftwood) writes:\\n\\n>\\tI totally agree with each point you made.  Jose Viscaino looked\\n>like a single A hitter up there.  Who swings on 3-1 count with Maddux \\n>pitching and your teams down by a run, and you haven't touched the ball all \\n>day?\\n\\nOh, this is an easy trivia question.  The answer is \"any Cub not named\\nSandberg or Grace.\"\\n\\n>      I also think too much is made of that lefty-righty thing.  Watching\\n>the Cubs games I get the feeling Steve Stone knows a lot more about what\\n>the Cubs should be doing than Lefebre does.  Harry said it best when he\\n>stated after another terrible Vizcaino at bat-- we can't wait til\\n>Sandberg returns!\\n\\n-- \\nDavid...  ...      11\n",
            "141                                                                                                                                                                                                                                                                                                                                                                                                                                                                                  Subject: Re: FLORIDA SUCKS!\\nFrom: csc2imd@cabell.vcu.edu (Ian M. Derby)\\nExpires: Sat, 1 May 1993 04:00:00 GMT\\nOrganization: Virginia Commonwealth University\\nLines: 8\\n\\n\\nThis talk about the Phillies winning the NL East is scary.  VERY\\nscary!  Don't get me wrong, Im a Phillies fan but as late as last\\nyear they looked helpless.  The funny thing was they did have a lot\\nof injuries in '92 spring training that basically killed their\\nchances.  Of course, don't forget the Dykstra wrist injury in the\\nfirst or second game?  \\n\\n  ...      11\n",
            "\n",
            "[5 rows x 8 columns]\n",
            "Cluster 12\n",
            "                                                                                                                                                                                                                                                                                                                                                                                                                                                                                                                                                                                                                                                                                                                                                                                                                                                                                                                                                                                                                                        text  ... cluster\n",
            "19                                                                                                                                                                                                                                                                                                                                                                                                                                                                                                                                      From: ednobles@sacam.OREN.ORTN.EDU (Edward d Nobles)\\nSubject: windows imagine??!!\\nOrganization: Oak Ridge National Laboratory\\nX-Newsreader: TIN [version 1.1 PL9]\\nLines: 10\\n\\n\\nHas ANYONE who has ordered the new PC version of Imagine ACTUALLY recieved\\nit yet?   I'm just about ready to order but reading posts about people still\\nawaiting delivery are making me a little paranoid.  Has anyone actually \\nheld this piece of software in their own hands?\\n\\nLater,\\n\\nJim Nobles\\n\\n  ...      12\n",
            "50                                                                                                                                                                                                                                                                                                                                                                                                                                                                                                                                                                                                                                                  From: khcheng@unix.amherst.edu (KIM HONG CHENG)\\nSubject: Telepath 96/96 FAX/MODEM FOR GATEWAY\\nOrganization: Amherst College\\nLines: 7\\nNntp-Posting-Host: amhux3.amherst.edu\\nX-Newsreader: TIN [version 1.1 PL7]\\n\\nGATEWAY Telepath 9600/9600 FAx/modem for gateway computer\\nwith crosstalk, Winfax Pro 2.01 for windows\\nNever used.\\n\\n$170 shipped ($195 from gateway)\\n\\nHong\\n  ...      12\n",
            "80                                                                                                                                                                                                                                                                                                                                                                                                          From: bill@xpresso.UUCP (Bill Vance)\\nSubject: TRUE \"GLOBE\", Who makes it?\\nOrganization: (N.) To be organized.  But that's not important right now.....\\nLines: 11\\nX-Newsreader: TIN [version 1.1 PL9]\\n\\nIt has been known for quite a while that the earth is actually more pear\\nshaped than globular/spherical.  Does anyone make a \"globe\" that is accurate\\nas to actual shape, landmass configuration/Long/Lat lines etc.?\\nThanks in advance.\\n\\n--\\n\\nbill@xpresso.UUCP                   (Bill Vance),             Bothell, WA\\nrwing!xpresso!bill\\n\\nYou listen when I xpresso, I listen When uuxpresso.......:-)\\n  ...      12\n",
            "87   From: shah@pitt.edu (Ravindra S Shah)\\nSubject: Re: Nords 3 - Habs 2 in O.T. We was robbed!!\\nLines: 23\\nX-Newsreader: TIN [version 1.1 PL8]\\n\\nDeepak Chhabra (dchhabra@stpl.ists.ca) wrote:\\n\\n: Speaking of great players, man-oh-man can Quebec skate.  I haven't seen a\\n: team so potent on the rush in a long time.  Watching them break out of their\\n: zone, especially Sundin, is a treat to watch.  They remind me of the Red \\n: Army.  \\n\\n: dchhabra@stpl.ists.ca (pissed-off Habs fan)\\n\\nYeah, the Nords look like they're going to be good...but (excuse the\\nbias) have you ever watched the Pens on a rush?...Don't answer: everyone\\nhas seen this footage.  Near the end of the season when the Pens played\\nthe Nords it was like watching a (younger) double of the Pens.  ...The\\nNords looked good right up to the point when they lost. \\n--\\nRavi Shah\\nshah+@pitt.edu\\n\\n\"La mu'sica ideas portara'  \\tapprox. translation: \"Music will bring ideas\\ny siempre continuara'\\t\\t\\t\\t     and will continue...  ...      12\n",
            "131  From: robertt@vcd.hp.com (Bob Taylor)\\nSubject: Re: Canon BJ200 (BubbleJet) and HP DeskJet 500...\\nOrganization: Hewlett-Packard VCD\\nX-Newsreader: Tin 1.1 PL5\\nLines: 26\\n\\nJustin Whitton (ma90jjw%isis@ajax.rsre.mod.uk) wrote:\\n: In article <C60EKI.Kvp@vcd.hp.com> edmoore@vcd.hp.com (Ed Moore) writes:\\n: \\n:    thomas.d.fellrath.1@nd.edu@nd.edu wrote:\\n: \\n:    I think the ink now used in the DeskJet family is water-fast. \\n: \\n: I've had pictures ruined by a few drops of rain. These were colour pictures\\n: from a DeskJet 500C. Mind you, it could have been acid rain:-)\\n\\nThe black ink is waterfast, but the color isn't\\n\\n: \\n: I use a BJ10ex. Ink dries fast, but it really doesn't like getting wet.\\n: \\n: --\\n: /-----------------------------------------------------------------------------\\\\n: |Justin Whitton at ma90jjw%hermes@uk.mod.relay |Where no man has gone before..|\\n: |after August mail ma90jjw@brunel.ac.uk.       \\------------------------------|\\n: |Disclaimer: My opinions ...  ...      12\n",
            "\n",
            "[5 rows x 8 columns]\n",
            "Cluster 13\n",
            "                                                                                                                                                                                                                                                                                                                                                                                                                                                                                                                                                                                                                                                                                                                                                                                                                                                                                                                                                                                                                                       text  ... cluster\n",
            "16  From: boyle@cactus.org (Craig Boyle)\\nSubject: Re: Basics about maintenance\\nArticle-I.D.: cactus.1993Apr6.002142.6753\\nOrganization: Capital Area Central Texas UNIX Society, Austin, Tx\\nLines: 30\\n\\nIn article <1993Apr5.175719.7892@telxon.mis.telxon.com> joes@telxon.mis.telxon.com (Joe Staudt) writes:\\n>In article <1piip4$bo6@agate.berkeley.edu> hubertc@whistle.CS.Berkeley.EDU (Hung-Hsien (Hubert) Chang) writes:\\n>>\\n>>Hi! being new to a car owner, I would pretty much like to know more about \\n>>some basics of maintaining the cars.\\n>>\\n>>I know the following:\\n>>\\n>>1. Oil has to be changed every 3000 miles.\\n>\\n>Change the oil filter, too.\\n>\\n>>2. Check tires before going on the high way. And fill up the tank.\\n>\\n>Make that monthly, or more often if you know one or more of your\\n>tires has a slow leak.\\n\\nIf the tire has a leak you should fix it. \\n\\n>\\n>>What others? Thank you.\\n>\\n>\\n>4. Check ALL fluids regularly (every month?), check the oil every time you\\n>   fill up wit...  ...      13\n",
            "46  From: eliot@lanmola.engr.washington.edu (eliot)\\nSubject: Re: Improvements in Automatic Transmissions\\nKeywords: Saturn, Subaru, manual, automatic\\nArticle-I.D.: engr.Apr19.045221.19525\\nOrganization: clearer than blir\\nLines: 40\\nNNTP-Posting-Host: lanmola.engr.washington.edu\\n\\n\\nan excellent automatic can be found in the subaru legacy.  it switches to\\n\"sport\" mode when the electronics figure it,  not when the driver sets\\nthe switch.. which is the proper way to do it, IMO.  so what does \"sport\"\\nmode entail?  several things:\\n\\n1) revving to red line (or to the rev limiter in the case of the legacy)\\n\\n2) delayed upshifts.  (i.e. if you lift off briefly, it will remain in the\\n\\tlow gear.  this is handy if you are charging through corners and\\n\\twould like to do without the distraction of upshifts when there's\\n\\tanother curve approaching)\\n\\n3) part throttle downshifts, based on the *speed* at which the pedal is\\n\\tdepressed, rather than the *position* of the pedal.  modern\\n\\...  ...      13\n",
            "66  From: CONRADIE@firga.sun.ac.za (Gerrit Conradie)\\nSubject: Re: Is car saftey important? \\nOrganization: University of Stellenbosch, SA\\nLines: 25\\n\\nIn article <1993Apr20.163527.12773@bnr.ca> tcorkum@bnr.ca (Trevor Corkum) writes:\\n>Subject: Is car saftey important? \\n>   I was recently thumbing through the 1993 Lemon-Aid New\\n>Car Guide.  What I found was a car would be given a 'Recommended'\\n>under the picture while a few sentences later noting how a\\n>driver and passenger were virtually guaranteed to be killed\\n>in a front end collision.  The most highly recommended small\\n>car (The Civic) has the worst crash rating of all of the small\\n>cars listed.  There were many such cases of 'great' vehicles\\n>where you wouldn't survive an accident.  Is it only me, or is\\n>safety not one of the most important factors when buying a car?\\n>\\n\\nDefinitely!\\n\\nSafety is an important criterium for me when buying a car. I won't buy a \\nsmall car like a Civic or whatever.\\n\\nGreat = Safety + Hand...  ...      13\n",
            "81  From: cab@col.hp.com (Chris Best)\\nSubject: Re: Uninterruptible Power Supply\\nOrganization: your service\\nLines: 17\\nNNTP-Posting-Host: hpctdkz.col.hp.com\\n\\nI'm no expert at UPS's, but you said something that made it sound like\\nyou didn't realize something.  On a typical UPS (well, on ours, anyway),\\nthere is NO switchover from AC to DC.  All the protected equipment is\\nALWAYS running from the batteries (via an inverter), with the usual \\ncondition of also having them on charge.  If the power fails, big deal - \\nthe computers never see it (until the batteries start to droop, but \\nthere's something like 60 car-sized batteries in that cabinet, so it \\ntakes a while).\\n\\nIf you were gonna run the guts on straight DC instead of an inverter,\\nwhy not do it all the time?  Then there'd be no switchover to screw\\nthings up, and no having to sense the failure fast.  Just keep the DC\\non charge when the power is on, and it'll be there in zero time when\\nyou \"need\" it.\\n\\nJust some ideas. ...  ...      13\n",
            "83                                                                                                                                                                                                                                                                                                                                                                                                                                                                                                                                                                                                                                                                                                                                                                               From: zampicem@hpcc01.corp.hp.com (Mike Zampiceni)\\nSubject: Re: mazda - just does not feel right\\nOrganization: the HP Corporate notes server\\nLines: 2\\n\\nThe car might also need a front end alignment, particularly if you're\\ndescribing wandering.\\n  ...      13\n",
            "\n",
            "[5 rows x 8 columns]\n"
          ]
        }
      ]
    },
    {
      "cell_type": "code",
      "metadata": {
        "id": "y3DJTPx9fcQj"
      },
      "source": [
        ""
      ],
      "execution_count": null,
      "outputs": []
    }
  ]
}